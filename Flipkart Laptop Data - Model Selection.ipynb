{
 "cells": [
  {
   "cell_type": "markdown",
   "id": "adf25b92",
   "metadata": {},
   "source": [
    "**Import Libraries**"
   ]
  },
  {
   "cell_type": "code",
   "execution_count": 3,
   "id": "0d5b81dc",
   "metadata": {},
   "outputs": [],
   "source": [
    "import pandas as pd\n",
    "import numpy as np\n",
    "import matplotlib.pyplot as plt\n",
    "import seaborn as sns\n",
    "import warnings \n",
    "warnings.filterwarnings('ignore')"
   ]
  },
  {
   "cell_type": "markdown",
   "id": "19c5918c",
   "metadata": {},
   "source": [
    "**Load Dataset**"
   ]
  },
  {
   "cell_type": "code",
   "execution_count": 4,
   "id": "4b42e912",
   "metadata": {},
   "outputs": [
    {
     "data": {
      "text/html": [
       "<div>\n",
       "<style scoped>\n",
       "    .dataframe tbody tr th:only-of-type {\n",
       "        vertical-align: middle;\n",
       "    }\n",
       "\n",
       "    .dataframe tbody tr th {\n",
       "        vertical-align: top;\n",
       "    }\n",
       "\n",
       "    .dataframe thead th {\n",
       "        text-align: right;\n",
       "    }\n",
       "</style>\n",
       "<table border=\"1\" class=\"dataframe\">\n",
       "  <thead>\n",
       "    <tr style=\"text-align: right;\">\n",
       "      <th></th>\n",
       "      <th>Unnamed: 0</th>\n",
       "      <th>Rating</th>\n",
       "      <th>Price</th>\n",
       "      <th>Processor</th>\n",
       "      <th>OS</th>\n",
       "      <th>Disk_Drive(SSD_GB)</th>\n",
       "      <th>Brand</th>\n",
       "      <th>RAM_Type</th>\n",
       "      <th>RAM_GB</th>\n",
       "      <th>Inches</th>\n",
       "    </tr>\n",
       "  </thead>\n",
       "  <tbody>\n",
       "    <tr>\n",
       "      <th>0</th>\n",
       "      <td>0</td>\n",
       "      <td>4.2</td>\n",
       "      <td>36990.0</td>\n",
       "      <td>Intel Core i3 Processor</td>\n",
       "      <td>Windows 11</td>\n",
       "      <td>256</td>\n",
       "      <td>Lenovo</td>\n",
       "      <td>DDR4</td>\n",
       "      <td>8</td>\n",
       "      <td>15.6</td>\n",
       "    </tr>\n",
       "    <tr>\n",
       "      <th>1</th>\n",
       "      <td>1</td>\n",
       "      <td>4.2</td>\n",
       "      <td>39990.0</td>\n",
       "      <td>Intel Core i3 Processor</td>\n",
       "      <td>Windows 11</td>\n",
       "      <td>512</td>\n",
       "      <td>Lenovo</td>\n",
       "      <td>DDR4</td>\n",
       "      <td>8</td>\n",
       "      <td>15.6</td>\n",
       "    </tr>\n",
       "    <tr>\n",
       "      <th>2</th>\n",
       "      <td>2</td>\n",
       "      <td>4.3</td>\n",
       "      <td>32990.0</td>\n",
       "      <td>Intel Core i3 Processor</td>\n",
       "      <td>Windows 11</td>\n",
       "      <td>512</td>\n",
       "      <td>ASUS</td>\n",
       "      <td>DDR4</td>\n",
       "      <td>8</td>\n",
       "      <td>15.6</td>\n",
       "    </tr>\n",
       "    <tr>\n",
       "      <th>3</th>\n",
       "      <td>3</td>\n",
       "      <td>4.4</td>\n",
       "      <td>49990.0</td>\n",
       "      <td>AMD Ryzen 5 Hexa Core Processor</td>\n",
       "      <td>Windows 10</td>\n",
       "      <td>512</td>\n",
       "      <td>HP</td>\n",
       "      <td>DDR4</td>\n",
       "      <td>8</td>\n",
       "      <td>15.6</td>\n",
       "    </tr>\n",
       "    <tr>\n",
       "      <th>4</th>\n",
       "      <td>4</td>\n",
       "      <td>4.4</td>\n",
       "      <td>49990.0</td>\n",
       "      <td>Intel Core i5 Processor</td>\n",
       "      <td>Windows 11</td>\n",
       "      <td>512</td>\n",
       "      <td>ASUS</td>\n",
       "      <td>DDR4</td>\n",
       "      <td>8</td>\n",
       "      <td>15.6</td>\n",
       "    </tr>\n",
       "    <tr>\n",
       "      <th>...</th>\n",
       "      <td>...</td>\n",
       "      <td>...</td>\n",
       "      <td>...</td>\n",
       "      <td>...</td>\n",
       "      <td>...</td>\n",
       "      <td>...</td>\n",
       "      <td>...</td>\n",
       "      <td>...</td>\n",
       "      <td>...</td>\n",
       "      <td>...</td>\n",
       "    </tr>\n",
       "    <tr>\n",
       "      <th>715</th>\n",
       "      <td>715</td>\n",
       "      <td>4.0</td>\n",
       "      <td>23490.0</td>\n",
       "      <td>Intel Celeron Dual Core Processor</td>\n",
       "      <td>Chrome</td>\n",
       "      <td>512</td>\n",
       "      <td>ASUS</td>\n",
       "      <td>LPDDR4</td>\n",
       "      <td>4</td>\n",
       "      <td>11.6</td>\n",
       "    </tr>\n",
       "    <tr>\n",
       "      <th>716</th>\n",
       "      <td>716</td>\n",
       "      <td>4.5</td>\n",
       "      <td>73490.0</td>\n",
       "      <td>AMD Ryzen 7 Octa Core Processor</td>\n",
       "      <td>Windows 11</td>\n",
       "      <td>512</td>\n",
       "      <td>Lenovo</td>\n",
       "      <td>DDR4</td>\n",
       "      <td>8</td>\n",
       "      <td>15.6</td>\n",
       "    </tr>\n",
       "    <tr>\n",
       "      <th>717</th>\n",
       "      <td>717</td>\n",
       "      <td>4.3</td>\n",
       "      <td>194990.0</td>\n",
       "      <td>AMD Ryzen 9 Octa Core Processor</td>\n",
       "      <td>Windows 11</td>\n",
       "      <td>1000</td>\n",
       "      <td>ASUS</td>\n",
       "      <td>DDR5</td>\n",
       "      <td>16</td>\n",
       "      <td>15.6</td>\n",
       "    </tr>\n",
       "    <tr>\n",
       "      <th>718</th>\n",
       "      <td>718</td>\n",
       "      <td>3.0</td>\n",
       "      <td>125990.0</td>\n",
       "      <td>Intel Core i7 Processor</td>\n",
       "      <td>Windows 11</td>\n",
       "      <td>512</td>\n",
       "      <td>ASUS</td>\n",
       "      <td>LPDDR5</td>\n",
       "      <td>16</td>\n",
       "      <td>15.6</td>\n",
       "    </tr>\n",
       "    <tr>\n",
       "      <th>719</th>\n",
       "      <td>719</td>\n",
       "      <td>4.2</td>\n",
       "      <td>50990.0</td>\n",
       "      <td>Intel Core i5 Processor</td>\n",
       "      <td>Windows 10</td>\n",
       "      <td>256</td>\n",
       "      <td>Lenovo</td>\n",
       "      <td>DDR4</td>\n",
       "      <td>8</td>\n",
       "      <td>15.6</td>\n",
       "    </tr>\n",
       "  </tbody>\n",
       "</table>\n",
       "<p>720 rows × 10 columns</p>\n",
       "</div>"
      ],
      "text/plain": [
       "     Unnamed: 0  Rating     Price                          Processor  \\\n",
       "0             0     4.2   36990.0            Intel Core i3 Processor   \n",
       "1             1     4.2   39990.0            Intel Core i3 Processor   \n",
       "2             2     4.3   32990.0            Intel Core i3 Processor   \n",
       "3             3     4.4   49990.0    AMD Ryzen 5 Hexa Core Processor   \n",
       "4             4     4.4   49990.0            Intel Core i5 Processor   \n",
       "..          ...     ...       ...                                ...   \n",
       "715         715     4.0   23490.0  Intel Celeron Dual Core Processor   \n",
       "716         716     4.5   73490.0    AMD Ryzen 7 Octa Core Processor   \n",
       "717         717     4.3  194990.0    AMD Ryzen 9 Octa Core Processor   \n",
       "718         718     3.0  125990.0            Intel Core i7 Processor   \n",
       "719         719     4.2   50990.0            Intel Core i5 Processor   \n",
       "\n",
       "                 OS  Disk_Drive(SSD_GB)   Brand RAM_Type  RAM_GB  Inches  \n",
       "0      Windows 11                   256  Lenovo    DDR4        8    15.6  \n",
       "1      Windows 11                   512  Lenovo    DDR4        8    15.6  \n",
       "2      Windows 11                   512    ASUS    DDR4        8    15.6  \n",
       "3      Windows 10                   512      HP    DDR4        8    15.6  \n",
       "4      Windows 11                   512    ASUS    DDR4        8    15.6  \n",
       "..              ...                 ...     ...      ...     ...     ...  \n",
       "715        Chrome                   512    ASUS  LPDDR4        4    11.6  \n",
       "716    Windows 11                   512  Lenovo    DDR4        8    15.6  \n",
       "717    Windows 11                  1000    ASUS    DDR5       16    15.6  \n",
       "718    Windows 11                   512    ASUS  LPDDR5       16    15.6  \n",
       "719    Windows 10                   256  Lenovo    DDR4        8    15.6  \n",
       "\n",
       "[720 rows x 10 columns]"
      ]
     },
     "execution_count": 4,
     "metadata": {},
     "output_type": "execute_result"
    }
   ],
   "source": [
    "data=pd.read_csv(\"Laptop.csv\")\n",
    "data"
   ]
  },
  {
   "cell_type": "code",
   "execution_count": 5,
   "id": "379d4d1d",
   "metadata": {},
   "outputs": [
    {
     "data": {
      "text/html": [
       "<div>\n",
       "<style scoped>\n",
       "    .dataframe tbody tr th:only-of-type {\n",
       "        vertical-align: middle;\n",
       "    }\n",
       "\n",
       "    .dataframe tbody tr th {\n",
       "        vertical-align: top;\n",
       "    }\n",
       "\n",
       "    .dataframe thead th {\n",
       "        text-align: right;\n",
       "    }\n",
       "</style>\n",
       "<table border=\"1\" class=\"dataframe\">\n",
       "  <thead>\n",
       "    <tr style=\"text-align: right;\">\n",
       "      <th></th>\n",
       "      <th>Rating</th>\n",
       "      <th>Price</th>\n",
       "      <th>Processor</th>\n",
       "      <th>OS</th>\n",
       "      <th>Disk_Drive(SSD_GB)</th>\n",
       "      <th>Brand</th>\n",
       "      <th>RAM_Type</th>\n",
       "      <th>RAM_GB</th>\n",
       "      <th>Inches</th>\n",
       "    </tr>\n",
       "  </thead>\n",
       "  <tbody>\n",
       "    <tr>\n",
       "      <th>0</th>\n",
       "      <td>4.2</td>\n",
       "      <td>36990.0</td>\n",
       "      <td>Intel Core i3 Processor</td>\n",
       "      <td>Windows 11</td>\n",
       "      <td>256</td>\n",
       "      <td>Lenovo</td>\n",
       "      <td>DDR4</td>\n",
       "      <td>8</td>\n",
       "      <td>15.6</td>\n",
       "    </tr>\n",
       "    <tr>\n",
       "      <th>1</th>\n",
       "      <td>4.2</td>\n",
       "      <td>39990.0</td>\n",
       "      <td>Intel Core i3 Processor</td>\n",
       "      <td>Windows 11</td>\n",
       "      <td>512</td>\n",
       "      <td>Lenovo</td>\n",
       "      <td>DDR4</td>\n",
       "      <td>8</td>\n",
       "      <td>15.6</td>\n",
       "    </tr>\n",
       "    <tr>\n",
       "      <th>2</th>\n",
       "      <td>4.3</td>\n",
       "      <td>32990.0</td>\n",
       "      <td>Intel Core i3 Processor</td>\n",
       "      <td>Windows 11</td>\n",
       "      <td>512</td>\n",
       "      <td>ASUS</td>\n",
       "      <td>DDR4</td>\n",
       "      <td>8</td>\n",
       "      <td>15.6</td>\n",
       "    </tr>\n",
       "    <tr>\n",
       "      <th>3</th>\n",
       "      <td>4.4</td>\n",
       "      <td>49990.0</td>\n",
       "      <td>AMD Ryzen 5 Hexa Core Processor</td>\n",
       "      <td>Windows 10</td>\n",
       "      <td>512</td>\n",
       "      <td>HP</td>\n",
       "      <td>DDR4</td>\n",
       "      <td>8</td>\n",
       "      <td>15.6</td>\n",
       "    </tr>\n",
       "    <tr>\n",
       "      <th>4</th>\n",
       "      <td>4.4</td>\n",
       "      <td>49990.0</td>\n",
       "      <td>Intel Core i5 Processor</td>\n",
       "      <td>Windows 11</td>\n",
       "      <td>512</td>\n",
       "      <td>ASUS</td>\n",
       "      <td>DDR4</td>\n",
       "      <td>8</td>\n",
       "      <td>15.6</td>\n",
       "    </tr>\n",
       "    <tr>\n",
       "      <th>...</th>\n",
       "      <td>...</td>\n",
       "      <td>...</td>\n",
       "      <td>...</td>\n",
       "      <td>...</td>\n",
       "      <td>...</td>\n",
       "      <td>...</td>\n",
       "      <td>...</td>\n",
       "      <td>...</td>\n",
       "      <td>...</td>\n",
       "    </tr>\n",
       "    <tr>\n",
       "      <th>715</th>\n",
       "      <td>4.0</td>\n",
       "      <td>23490.0</td>\n",
       "      <td>Intel Celeron Dual Core Processor</td>\n",
       "      <td>Chrome</td>\n",
       "      <td>512</td>\n",
       "      <td>ASUS</td>\n",
       "      <td>LPDDR4</td>\n",
       "      <td>4</td>\n",
       "      <td>11.6</td>\n",
       "    </tr>\n",
       "    <tr>\n",
       "      <th>716</th>\n",
       "      <td>4.5</td>\n",
       "      <td>73490.0</td>\n",
       "      <td>AMD Ryzen 7 Octa Core Processor</td>\n",
       "      <td>Windows 11</td>\n",
       "      <td>512</td>\n",
       "      <td>Lenovo</td>\n",
       "      <td>DDR4</td>\n",
       "      <td>8</td>\n",
       "      <td>15.6</td>\n",
       "    </tr>\n",
       "    <tr>\n",
       "      <th>717</th>\n",
       "      <td>4.3</td>\n",
       "      <td>194990.0</td>\n",
       "      <td>AMD Ryzen 9 Octa Core Processor</td>\n",
       "      <td>Windows 11</td>\n",
       "      <td>1000</td>\n",
       "      <td>ASUS</td>\n",
       "      <td>DDR5</td>\n",
       "      <td>16</td>\n",
       "      <td>15.6</td>\n",
       "    </tr>\n",
       "    <tr>\n",
       "      <th>718</th>\n",
       "      <td>3.0</td>\n",
       "      <td>125990.0</td>\n",
       "      <td>Intel Core i7 Processor</td>\n",
       "      <td>Windows 11</td>\n",
       "      <td>512</td>\n",
       "      <td>ASUS</td>\n",
       "      <td>LPDDR5</td>\n",
       "      <td>16</td>\n",
       "      <td>15.6</td>\n",
       "    </tr>\n",
       "    <tr>\n",
       "      <th>719</th>\n",
       "      <td>4.2</td>\n",
       "      <td>50990.0</td>\n",
       "      <td>Intel Core i5 Processor</td>\n",
       "      <td>Windows 10</td>\n",
       "      <td>256</td>\n",
       "      <td>Lenovo</td>\n",
       "      <td>DDR4</td>\n",
       "      <td>8</td>\n",
       "      <td>15.6</td>\n",
       "    </tr>\n",
       "  </tbody>\n",
       "</table>\n",
       "<p>720 rows × 9 columns</p>\n",
       "</div>"
      ],
      "text/plain": [
       "     Rating     Price                          Processor              OS  \\\n",
       "0       4.2   36990.0            Intel Core i3 Processor    Windows 11     \n",
       "1       4.2   39990.0            Intel Core i3 Processor    Windows 11     \n",
       "2       4.3   32990.0            Intel Core i3 Processor    Windows 11     \n",
       "3       4.4   49990.0    AMD Ryzen 5 Hexa Core Processor    Windows 10     \n",
       "4       4.4   49990.0            Intel Core i5 Processor    Windows 11     \n",
       "..      ...       ...                                ...             ...   \n",
       "715     4.0   23490.0  Intel Celeron Dual Core Processor        Chrome     \n",
       "716     4.5   73490.0    AMD Ryzen 7 Octa Core Processor    Windows 11     \n",
       "717     4.3  194990.0    AMD Ryzen 9 Octa Core Processor    Windows 11     \n",
       "718     3.0  125990.0            Intel Core i7 Processor    Windows 11     \n",
       "719     4.2   50990.0            Intel Core i5 Processor    Windows 10     \n",
       "\n",
       "     Disk_Drive(SSD_GB)   Brand RAM_Type  RAM_GB  Inches  \n",
       "0                   256  Lenovo    DDR4        8    15.6  \n",
       "1                   512  Lenovo    DDR4        8    15.6  \n",
       "2                   512    ASUS    DDR4        8    15.6  \n",
       "3                   512      HP    DDR4        8    15.6  \n",
       "4                   512    ASUS    DDR4        8    15.6  \n",
       "..                  ...     ...      ...     ...     ...  \n",
       "715                 512    ASUS  LPDDR4        4    11.6  \n",
       "716                 512  Lenovo    DDR4        8    15.6  \n",
       "717                1000    ASUS    DDR5       16    15.6  \n",
       "718                 512    ASUS  LPDDR5       16    15.6  \n",
       "719                 256  Lenovo    DDR4        8    15.6  \n",
       "\n",
       "[720 rows x 9 columns]"
      ]
     },
     "execution_count": 5,
     "metadata": {},
     "output_type": "execute_result"
    }
   ],
   "source": [
    "data.drop('Unnamed: 0',axis=1,inplace=True)\n",
    "data"
   ]
  },
  {
   "cell_type": "markdown",
   "id": "76fdf641",
   "metadata": {},
   "source": [
    "**Splitting train and test data**"
   ]
  },
  {
   "cell_type": "code",
   "execution_count": 4,
   "id": "3b634286",
   "metadata": {},
   "outputs": [],
   "source": [
    "y=data[['Price']]\n",
    "X=data[['Rating', 'Disk_Drive(SSD_GB)', 'RAM_GB', 'Inches']]"
   ]
  },
  {
   "cell_type": "code",
   "execution_count": 5,
   "id": "cff279f2",
   "metadata": {},
   "outputs": [],
   "source": [
    "from sklearn.model_selection import train_test_split\n",
    "X_train,X_test,y_train,y_test=train_test_split(X,y,test_size=0.30,random_state=0)"
   ]
  },
  {
   "cell_type": "markdown",
   "id": "6c4c9f4f",
   "metadata": {},
   "source": [
    "**Model Selection:**"
   ]
  },
  {
   "cell_type": "markdown",
   "id": "8da886e7",
   "metadata": {},
   "source": [
    "`Linear Regression`"
   ]
  },
  {
   "cell_type": "code",
   "execution_count": 6,
   "id": "1b631deb",
   "metadata": {},
   "outputs": [
    {
     "name": "stdout",
     "output_type": "stream",
     "text": [
      "RMSE for train data: 33008.66083043634\n",
      "RMSE for test data: 37318.69296870215\n"
     ]
    }
   ],
   "source": [
    "#Linear Regression\n",
    "from sklearn.linear_model import LinearRegression\n",
    "from sklearn import metrics\n",
    "regressor_Linear = LinearRegression()\n",
    "regressor_Linear.fit(X_train,y_train)\n",
    "\n",
    "y_train_pred=regressor_Linear.predict(X_train)\n",
    "\n",
    "y_test_pred=regressor_Linear.predict(X_test)\n",
    "\n",
    "print('RMSE for train data:',np.sqrt(metrics.mean_squared_error(y_train,y_train_pred)))\n",
    "print('RMSE for test data:',np.sqrt(metrics.mean_squared_error(y_test,y_test_pred)))\n"
   ]
  },
  {
   "cell_type": "markdown",
   "id": "e1640faa",
   "metadata": {},
   "source": [
    "`KNN`"
   ]
  },
  {
   "cell_type": "code",
   "execution_count": 7,
   "id": "c63b1df1",
   "metadata": {},
   "outputs": [
    {
     "name": "stdout",
     "output_type": "stream",
     "text": [
      "RMSE for train data: 19716.800508037053\n",
      "RMSE for test data: 25964.530549193452\n"
     ]
    }
   ],
   "source": [
    "#KNN \n",
    "from sklearn.neighbors import KNeighborsRegressor\n",
    "from sklearn import metrics\n",
    "knn= KNeighborsRegressor()\n",
    "knn.fit(X_train,y_train)\n",
    "\n",
    "y_train_pred=knn.predict(X_train)\n",
    "\n",
    "y_test_pred=knn.predict(X_test)\n",
    "\n",
    "print('RMSE for train data:',np.sqrt(metrics.mean_squared_error(y_train,y_train_pred)))\n",
    "print('RMSE for test data:',np.sqrt(metrics.mean_squared_error(y_test,y_test_pred)))\n"
   ]
  },
  {
   "cell_type": "markdown",
   "id": "05a3b356",
   "metadata": {},
   "source": [
    "`DecisionTreeRegressor`"
   ]
  },
  {
   "cell_type": "code",
   "execution_count": 8,
   "id": "b64d2b69",
   "metadata": {},
   "outputs": [
    {
     "name": "stdout",
     "output_type": "stream",
     "text": [
      "RMSE for train data: 12084.077614583673\n",
      "RMSE for test data: 29131.230686158786\n"
     ]
    }
   ],
   "source": [
    "#DecisionTreeRegressor\n",
    "from sklearn.tree import DecisionTreeRegressor\n",
    "regressor_DT=DecisionTreeRegressor()\n",
    "regressor_DT.fit(X_train, y_train)\n",
    "y_train_pred=regressor_DT.predict(X_train)\n",
    "\n",
    "y_test_pred=regressor_DT.predict(X_test)\n",
    "\n",
    "print('RMSE for train data:',np.sqrt(metrics.mean_squared_error(y_train,y_train_pred)))\n",
    "print('RMSE for test data:',np.sqrt(metrics.mean_squared_error(y_test,y_test_pred)))\n"
   ]
  },
  {
   "cell_type": "markdown",
   "id": "401431bf",
   "metadata": {},
   "source": [
    "`Randomforest`"
   ]
  },
  {
   "cell_type": "code",
   "execution_count": 9,
   "id": "1badf316",
   "metadata": {},
   "outputs": [
    {
     "name": "stdout",
     "output_type": "stream",
     "text": [
      "RMSE for train data: 14325.362915238826\n",
      "RMSE for test data: 26256.896012537858\n"
     ]
    }
   ],
   "source": [
    "#Randomforest\n",
    "from sklearn.ensemble import RandomForestRegressor\n",
    "Regressor_RF = RandomForestRegressor()\n",
    "Regressor_RF.fit(X_train, y_train)\n",
    "y_train_pred=Regressor_RF.predict(X_train)\n",
    "\n",
    "y_test_pred=Regressor_RF.predict(X_test)\n",
    "\n",
    "print('RMSE for train data:',np.sqrt(metrics.mean_squared_error(y_train,y_train_pred)))\n",
    "print('RMSE for test data:',np.sqrt(metrics.mean_squared_error(y_test,y_test_pred)))\n"
   ]
  },
  {
   "cell_type": "code",
   "execution_count": 21,
   "id": "84778a5e",
   "metadata": {},
   "outputs": [
    {
     "data": {
      "text/html": [
       "<div>\n",
       "<style scoped>\n",
       "    .dataframe tbody tr th:only-of-type {\n",
       "        vertical-align: middle;\n",
       "    }\n",
       "\n",
       "    .dataframe tbody tr th {\n",
       "        vertical-align: top;\n",
       "    }\n",
       "\n",
       "    .dataframe thead th {\n",
       "        text-align: right;\n",
       "    }\n",
       "</style>\n",
       "<table border=\"1\" class=\"dataframe\">\n",
       "  <thead>\n",
       "    <tr style=\"text-align: right;\">\n",
       "      <th></th>\n",
       "      <th>regressors</th>\n",
       "      <th>RMSE_train_values</th>\n",
       "      <th>RMSE_test_values</th>\n",
       "    </tr>\n",
       "  </thead>\n",
       "  <tbody>\n",
       "    <tr>\n",
       "      <th>0</th>\n",
       "      <td>KNN</td>\n",
       "      <td>19716.80</td>\n",
       "      <td>25964.53</td>\n",
       "    </tr>\n",
       "    <tr>\n",
       "      <th>1</th>\n",
       "      <td>DecisionTree</td>\n",
       "      <td>12084.07</td>\n",
       "      <td>29131.23</td>\n",
       "    </tr>\n",
       "    <tr>\n",
       "      <th>2</th>\n",
       "      <td>RandomForest</td>\n",
       "      <td>14325.36</td>\n",
       "      <td>26256.89</td>\n",
       "    </tr>\n",
       "    <tr>\n",
       "      <th>3</th>\n",
       "      <td>LinearRegression</td>\n",
       "      <td>33008.66</td>\n",
       "      <td>37318.69</td>\n",
       "    </tr>\n",
       "  </tbody>\n",
       "</table>\n",
       "</div>"
      ],
      "text/plain": [
       "         regressors  RMSE_train_values  RMSE_test_values\n",
       "0               KNN           19716.80          25964.53\n",
       "1      DecisionTree           12084.07          29131.23\n",
       "2      RandomForest           14325.36          26256.89\n",
       "3  LinearRegression           33008.66          37318.69"
      ]
     },
     "execution_count": 21,
     "metadata": {},
     "output_type": "execute_result"
    }
   ],
   "source": [
    "dict=pd.DataFrame({'regressors':['KNN','DecisionTree','RandomForest','LinearRegression' ],\n",
    "                'RMSE_train_values':[19716.80,12084.07,14325.36,33008.66],\n",
    "                'RMSE_test_values':[25964.53,29131.23,26256.89,37318.69]})\n",
    "dict"
   ]
  },
  {
   "cell_type": "markdown",
   "id": "ebaadf1c",
   "metadata": {},
   "source": [
    "**HyperParameter Tunning:**"
   ]
  },
  {
   "cell_type": "code",
   "execution_count": 22,
   "id": "78b3038f",
   "metadata": {},
   "outputs": [],
   "source": [
    "df=pd.read_csv(\"Laptop.csv\")\n",
    "\n",
    "y=df[['Price']]\n",
    "X=df[['Rating', 'Disk_Drive(SSD_GB)', 'RAM_GB', 'Inches']]"
   ]
  },
  {
   "cell_type": "code",
   "execution_count": 23,
   "id": "bf55bea5",
   "metadata": {},
   "outputs": [
    {
     "data": {
      "text/html": [
       "<div>\n",
       "<style scoped>\n",
       "    .dataframe tbody tr th:only-of-type {\n",
       "        vertical-align: middle;\n",
       "    }\n",
       "\n",
       "    .dataframe tbody tr th {\n",
       "        vertical-align: top;\n",
       "    }\n",
       "\n",
       "    .dataframe thead th {\n",
       "        text-align: right;\n",
       "    }\n",
       "</style>\n",
       "<table border=\"1\" class=\"dataframe\">\n",
       "  <thead>\n",
       "    <tr style=\"text-align: right;\">\n",
       "      <th></th>\n",
       "      <th>Rating</th>\n",
       "      <th>Disk_Drive(SSD_GB)</th>\n",
       "      <th>RAM_GB</th>\n",
       "      <th>Inches</th>\n",
       "    </tr>\n",
       "  </thead>\n",
       "  <tbody>\n",
       "    <tr>\n",
       "      <th>0</th>\n",
       "      <td>4.2</td>\n",
       "      <td>256</td>\n",
       "      <td>8</td>\n",
       "      <td>15.6</td>\n",
       "    </tr>\n",
       "    <tr>\n",
       "      <th>1</th>\n",
       "      <td>4.2</td>\n",
       "      <td>512</td>\n",
       "      <td>8</td>\n",
       "      <td>15.6</td>\n",
       "    </tr>\n",
       "    <tr>\n",
       "      <th>2</th>\n",
       "      <td>4.3</td>\n",
       "      <td>512</td>\n",
       "      <td>8</td>\n",
       "      <td>15.6</td>\n",
       "    </tr>\n",
       "    <tr>\n",
       "      <th>3</th>\n",
       "      <td>4.4</td>\n",
       "      <td>512</td>\n",
       "      <td>8</td>\n",
       "      <td>15.6</td>\n",
       "    </tr>\n",
       "    <tr>\n",
       "      <th>4</th>\n",
       "      <td>4.4</td>\n",
       "      <td>512</td>\n",
       "      <td>8</td>\n",
       "      <td>15.6</td>\n",
       "    </tr>\n",
       "  </tbody>\n",
       "</table>\n",
       "</div>"
      ],
      "text/plain": [
       "   Rating  Disk_Drive(SSD_GB)  RAM_GB  Inches\n",
       "0     4.2                 256       8    15.6\n",
       "1     4.2                 512       8    15.6\n",
       "2     4.3                 512       8    15.6\n",
       "3     4.4                 512       8    15.6\n",
       "4     4.4                 512       8    15.6"
      ]
     },
     "execution_count": 23,
     "metadata": {},
     "output_type": "execute_result"
    }
   ],
   "source": [
    "X.head()"
   ]
  },
  {
   "cell_type": "code",
   "execution_count": 24,
   "id": "ca30c910",
   "metadata": {},
   "outputs": [],
   "source": [
    "from sklearn.model_selection import train_test_split\n",
    "\n",
    "X_train, X_test, y_train, y_test = train_test_split(X, y, test_size = 0.20, random_state = 0)"
   ]
  },
  {
   "cell_type": "markdown",
   "id": "fb810276",
   "metadata": {},
   "source": [
    "**KNeighborsRegressor**"
   ]
  },
  {
   "cell_type": "markdown",
   "id": "ffe4de25",
   "metadata": {},
   "source": [
    " GridSearchCV"
   ]
  },
  {
   "cell_type": "code",
   "execution_count": 14,
   "id": "0064d370",
   "metadata": {},
   "outputs": [
    {
     "data": {
      "text/html": [
       "<style>#sk-container-id-1 {color: black;background-color: white;}#sk-container-id-1 pre{padding: 0;}#sk-container-id-1 div.sk-toggleable {background-color: white;}#sk-container-id-1 label.sk-toggleable__label {cursor: pointer;display: block;width: 100%;margin-bottom: 0;padding: 0.3em;box-sizing: border-box;text-align: center;}#sk-container-id-1 label.sk-toggleable__label-arrow:before {content: \"▸\";float: left;margin-right: 0.25em;color: #696969;}#sk-container-id-1 label.sk-toggleable__label-arrow:hover:before {color: black;}#sk-container-id-1 div.sk-estimator:hover label.sk-toggleable__label-arrow:before {color: black;}#sk-container-id-1 div.sk-toggleable__content {max-height: 0;max-width: 0;overflow: hidden;text-align: left;background-color: #f0f8ff;}#sk-container-id-1 div.sk-toggleable__content pre {margin: 0.2em;color: black;border-radius: 0.25em;background-color: #f0f8ff;}#sk-container-id-1 input.sk-toggleable__control:checked~div.sk-toggleable__content {max-height: 200px;max-width: 100%;overflow: auto;}#sk-container-id-1 input.sk-toggleable__control:checked~label.sk-toggleable__label-arrow:before {content: \"▾\";}#sk-container-id-1 div.sk-estimator input.sk-toggleable__control:checked~label.sk-toggleable__label {background-color: #d4ebff;}#sk-container-id-1 div.sk-label input.sk-toggleable__control:checked~label.sk-toggleable__label {background-color: #d4ebff;}#sk-container-id-1 input.sk-hidden--visually {border: 0;clip: rect(1px 1px 1px 1px);clip: rect(1px, 1px, 1px, 1px);height: 1px;margin: -1px;overflow: hidden;padding: 0;position: absolute;width: 1px;}#sk-container-id-1 div.sk-estimator {font-family: monospace;background-color: #f0f8ff;border: 1px dotted black;border-radius: 0.25em;box-sizing: border-box;margin-bottom: 0.5em;}#sk-container-id-1 div.sk-estimator:hover {background-color: #d4ebff;}#sk-container-id-1 div.sk-parallel-item::after {content: \"\";width: 100%;border-bottom: 1px solid gray;flex-grow: 1;}#sk-container-id-1 div.sk-label:hover label.sk-toggleable__label {background-color: #d4ebff;}#sk-container-id-1 div.sk-serial::before {content: \"\";position: absolute;border-left: 1px solid gray;box-sizing: border-box;top: 0;bottom: 0;left: 50%;z-index: 0;}#sk-container-id-1 div.sk-serial {display: flex;flex-direction: column;align-items: center;background-color: white;padding-right: 0.2em;padding-left: 0.2em;position: relative;}#sk-container-id-1 div.sk-item {position: relative;z-index: 1;}#sk-container-id-1 div.sk-parallel {display: flex;align-items: stretch;justify-content: center;background-color: white;position: relative;}#sk-container-id-1 div.sk-item::before, #sk-container-id-1 div.sk-parallel-item::before {content: \"\";position: absolute;border-left: 1px solid gray;box-sizing: border-box;top: 0;bottom: 0;left: 50%;z-index: -1;}#sk-container-id-1 div.sk-parallel-item {display: flex;flex-direction: column;z-index: 1;position: relative;background-color: white;}#sk-container-id-1 div.sk-parallel-item:first-child::after {align-self: flex-end;width: 50%;}#sk-container-id-1 div.sk-parallel-item:last-child::after {align-self: flex-start;width: 50%;}#sk-container-id-1 div.sk-parallel-item:only-child::after {width: 0;}#sk-container-id-1 div.sk-dashed-wrapped {border: 1px dashed gray;margin: 0 0.4em 0.5em 0.4em;box-sizing: border-box;padding-bottom: 0.4em;background-color: white;}#sk-container-id-1 div.sk-label label {font-family: monospace;font-weight: bold;display: inline-block;line-height: 1.2em;}#sk-container-id-1 div.sk-label-container {text-align: center;}#sk-container-id-1 div.sk-container {/* jupyter's `normalize.less` sets `[hidden] { display: none; }` but bootstrap.min.css set `[hidden] { display: none !important; }` so we also need the `!important` here to be able to override the default hidden behavior on the sphinx rendered scikit-learn.org. See: https://github.com/scikit-learn/scikit-learn/issues/21755 */display: inline-block !important;position: relative;}#sk-container-id-1 div.sk-text-repr-fallback {display: none;}</style><div id=\"sk-container-id-1\" class=\"sk-top-container\"><div class=\"sk-text-repr-fallback\"><pre>GridSearchCV(cv=5, estimator=KNeighborsRegressor(),\n",
       "             param_grid={&#x27;n_neighbors&#x27;: [1, 2, 3, 4, 5, 6, 7, 8, 9, 10, 11, 12,\n",
       "                                         13, 14, 15, 16, 17, 18, 19, 20, 21, 22,\n",
       "                                         23, 24, 25, 26, 27, 28, 29, 30, ...],\n",
       "                         &#x27;weights&#x27;: [&#x27;uniform&#x27;, &#x27;distance&#x27;]},\n",
       "             return_train_score=True)</pre><b>In a Jupyter environment, please rerun this cell to show the HTML representation or trust the notebook. <br />On GitHub, the HTML representation is unable to render, please try loading this page with nbviewer.org.</b></div><div class=\"sk-container\" hidden><div class=\"sk-item sk-dashed-wrapped\"><div class=\"sk-label-container\"><div class=\"sk-label sk-toggleable\"><input class=\"sk-toggleable__control sk-hidden--visually\" id=\"sk-estimator-id-1\" type=\"checkbox\" ><label for=\"sk-estimator-id-1\" class=\"sk-toggleable__label sk-toggleable__label-arrow\">GridSearchCV</label><div class=\"sk-toggleable__content\"><pre>GridSearchCV(cv=5, estimator=KNeighborsRegressor(),\n",
       "             param_grid={&#x27;n_neighbors&#x27;: [1, 2, 3, 4, 5, 6, 7, 8, 9, 10, 11, 12,\n",
       "                                         13, 14, 15, 16, 17, 18, 19, 20, 21, 22,\n",
       "                                         23, 24, 25, 26, 27, 28, 29, 30, ...],\n",
       "                         &#x27;weights&#x27;: [&#x27;uniform&#x27;, &#x27;distance&#x27;]},\n",
       "             return_train_score=True)</pre></div></div></div><div class=\"sk-parallel\"><div class=\"sk-parallel-item\"><div class=\"sk-item\"><div class=\"sk-label-container\"><div class=\"sk-label sk-toggleable\"><input class=\"sk-toggleable__control sk-hidden--visually\" id=\"sk-estimator-id-2\" type=\"checkbox\" ><label for=\"sk-estimator-id-2\" class=\"sk-toggleable__label sk-toggleable__label-arrow\">estimator: KNeighborsRegressor</label><div class=\"sk-toggleable__content\"><pre>KNeighborsRegressor()</pre></div></div></div><div class=\"sk-serial\"><div class=\"sk-item\"><div class=\"sk-estimator sk-toggleable\"><input class=\"sk-toggleable__control sk-hidden--visually\" id=\"sk-estimator-id-3\" type=\"checkbox\" ><label for=\"sk-estimator-id-3\" class=\"sk-toggleable__label sk-toggleable__label-arrow\">KNeighborsRegressor</label><div class=\"sk-toggleable__content\"><pre>KNeighborsRegressor()</pre></div></div></div></div></div></div></div></div></div></div>"
      ],
      "text/plain": [
       "GridSearchCV(cv=5, estimator=KNeighborsRegressor(),\n",
       "             param_grid={'n_neighbors': [1, 2, 3, 4, 5, 6, 7, 8, 9, 10, 11, 12,\n",
       "                                         13, 14, 15, 16, 17, 18, 19, 20, 21, 22,\n",
       "                                         23, 24, 25, 26, 27, 28, 29, 30, ...],\n",
       "                         'weights': ['uniform', 'distance']},\n",
       "             return_train_score=True)"
      ]
     },
     "execution_count": 14,
     "metadata": {},
     "output_type": "execute_result"
    }
   ],
   "source": [
    "import pandas as pd\n",
    "from sklearn.neighbors import KNeighborsRegressor\n",
    "from sklearn.model_selection import GridSearchCV\n",
    "from sklearn.metrics import classification_report\n",
    "import numpy as np\n",
    "\n",
    "tuned_parameters={'n_neighbors':[i for i in range(1, 51)],\n",
    "                  'weights': ['uniform', 'distance']}\n",
    "knn=KNeighborsRegressor()\n",
    "\n",
    "grid_search=GridSearchCV(knn,tuned_parameters,cv=5,return_train_score=True)\n",
    "\n",
    "grid_search.fit(X_train,y_train)"
   ]
  },
  {
   "cell_type": "code",
   "execution_count": 15,
   "id": "e7fa8623",
   "metadata": {},
   "outputs": [
    {
     "name": "stdout",
     "output_type": "stream",
     "text": [
      "Best parameters set found on train set\n",
      "{'n_neighbors': 2, 'weights': 'uniform'}\n",
      "KNeighborsRegressor(n_neighbors=2)\n",
      "\n",
      "Score on Test Data: 0.8546229762835253\n",
      "Score on Train Data: 0.8965847585896392\n"
     ]
    }
   ],
   "source": [
    "print(\"Best parameters set found on train set\")\n",
    "print(grid_search.best_params_)\n",
    "print(grid_search.best_estimator_)\n",
    "print()\n",
    "print('Score on Test Data:',grid_search.score(X_test,y_test))\n",
    "print('Score on Train Data:',grid_search.score(X_train,y_train))"
   ]
  },
  {
   "cell_type": "code",
   "execution_count": 16,
   "id": "abd897bd",
   "metadata": {},
   "outputs": [
    {
     "data": {
      "text/html": [
       "<div>\n",
       "<style scoped>\n",
       "    .dataframe tbody tr th:only-of-type {\n",
       "        vertical-align: middle;\n",
       "    }\n",
       "\n",
       "    .dataframe tbody tr th {\n",
       "        vertical-align: top;\n",
       "    }\n",
       "\n",
       "    .dataframe thead th {\n",
       "        text-align: right;\n",
       "    }\n",
       "</style>\n",
       "<table border=\"1\" class=\"dataframe\">\n",
       "  <thead>\n",
       "    <tr style=\"text-align: right;\">\n",
       "      <th></th>\n",
       "      <th>mean_fit_time</th>\n",
       "      <th>std_fit_time</th>\n",
       "      <th>mean_score_time</th>\n",
       "      <th>std_score_time</th>\n",
       "      <th>param_n_neighbors</th>\n",
       "      <th>param_weights</th>\n",
       "      <th>params</th>\n",
       "      <th>split0_test_score</th>\n",
       "      <th>split1_test_score</th>\n",
       "      <th>split2_test_score</th>\n",
       "      <th>...</th>\n",
       "      <th>mean_test_score</th>\n",
       "      <th>std_test_score</th>\n",
       "      <th>rank_test_score</th>\n",
       "      <th>split0_train_score</th>\n",
       "      <th>split1_train_score</th>\n",
       "      <th>split2_train_score</th>\n",
       "      <th>split3_train_score</th>\n",
       "      <th>split4_train_score</th>\n",
       "      <th>mean_train_score</th>\n",
       "      <th>std_train_score</th>\n",
       "    </tr>\n",
       "  </thead>\n",
       "  <tbody>\n",
       "    <tr>\n",
       "      <th>0</th>\n",
       "      <td>0.010150</td>\n",
       "      <td>0.005826</td>\n",
       "      <td>0.006263</td>\n",
       "      <td>0.006050</td>\n",
       "      <td>1</td>\n",
       "      <td>uniform</td>\n",
       "      <td>{'n_neighbors': 1, 'weights': 'uniform'}</td>\n",
       "      <td>0.710086</td>\n",
       "      <td>0.809994</td>\n",
       "      <td>0.742078</td>\n",
       "      <td>...</td>\n",
       "      <td>0.802317</td>\n",
       "      <td>0.069723</td>\n",
       "      <td>58</td>\n",
       "      <td>0.933485</td>\n",
       "      <td>0.895632</td>\n",
       "      <td>0.910477</td>\n",
       "      <td>0.875701</td>\n",
       "      <td>0.877927</td>\n",
       "      <td>0.898644</td>\n",
       "      <td>0.021534</td>\n",
       "    </tr>\n",
       "    <tr>\n",
       "      <th>1</th>\n",
       "      <td>0.002043</td>\n",
       "      <td>0.004086</td>\n",
       "      <td>0.035987</td>\n",
       "      <td>0.062929</td>\n",
       "      <td>1</td>\n",
       "      <td>distance</td>\n",
       "      <td>{'n_neighbors': 1, 'weights': 'distance'}</td>\n",
       "      <td>0.710086</td>\n",
       "      <td>0.809994</td>\n",
       "      <td>0.742078</td>\n",
       "      <td>...</td>\n",
       "      <td>0.802317</td>\n",
       "      <td>0.069723</td>\n",
       "      <td>58</td>\n",
       "      <td>0.933485</td>\n",
       "      <td>0.895632</td>\n",
       "      <td>0.910477</td>\n",
       "      <td>0.875701</td>\n",
       "      <td>0.877927</td>\n",
       "      <td>0.898644</td>\n",
       "      <td>0.021534</td>\n",
       "    </tr>\n",
       "    <tr>\n",
       "      <th>2</th>\n",
       "      <td>0.004728</td>\n",
       "      <td>0.006270</td>\n",
       "      <td>0.001751</td>\n",
       "      <td>0.002385</td>\n",
       "      <td>2</td>\n",
       "      <td>uniform</td>\n",
       "      <td>{'n_neighbors': 2, 'weights': 'uniform'}</td>\n",
       "      <td>0.717023</td>\n",
       "      <td>0.844813</td>\n",
       "      <td>0.843842</td>\n",
       "      <td>...</td>\n",
       "      <td>0.829791</td>\n",
       "      <td>0.057820</td>\n",
       "      <td>1</td>\n",
       "      <td>0.893864</td>\n",
       "      <td>0.896142</td>\n",
       "      <td>0.898258</td>\n",
       "      <td>0.887452</td>\n",
       "      <td>0.897754</td>\n",
       "      <td>0.894694</td>\n",
       "      <td>0.003932</td>\n",
       "    </tr>\n",
       "    <tr>\n",
       "      <th>3</th>\n",
       "      <td>0.004460</td>\n",
       "      <td>0.006158</td>\n",
       "      <td>0.000603</td>\n",
       "      <td>0.001205</td>\n",
       "      <td>2</td>\n",
       "      <td>distance</td>\n",
       "      <td>{'n_neighbors': 2, 'weights': 'distance'}</td>\n",
       "      <td>0.683008</td>\n",
       "      <td>0.835433</td>\n",
       "      <td>0.751712</td>\n",
       "      <td>...</td>\n",
       "      <td>0.804585</td>\n",
       "      <td>0.076414</td>\n",
       "      <td>56</td>\n",
       "      <td>0.920831</td>\n",
       "      <td>0.919658</td>\n",
       "      <td>0.928883</td>\n",
       "      <td>0.908843</td>\n",
       "      <td>0.917599</td>\n",
       "      <td>0.919163</td>\n",
       "      <td>0.006426</td>\n",
       "    </tr>\n",
       "    <tr>\n",
       "      <th>4</th>\n",
       "      <td>0.000778</td>\n",
       "      <td>0.001556</td>\n",
       "      <td>0.003125</td>\n",
       "      <td>0.006251</td>\n",
       "      <td>3</td>\n",
       "      <td>uniform</td>\n",
       "      <td>{'n_neighbors': 3, 'weights': 'uniform'}</td>\n",
       "      <td>0.768635</td>\n",
       "      <td>0.792175</td>\n",
       "      <td>0.801505</td>\n",
       "      <td>...</td>\n",
       "      <td>0.805343</td>\n",
       "      <td>0.025340</td>\n",
       "      <td>55</td>\n",
       "      <td>0.902579</td>\n",
       "      <td>0.846808</td>\n",
       "      <td>0.854389</td>\n",
       "      <td>0.870773</td>\n",
       "      <td>0.866608</td>\n",
       "      <td>0.868232</td>\n",
       "      <td>0.019180</td>\n",
       "    </tr>\n",
       "  </tbody>\n",
       "</table>\n",
       "<p>5 rows × 22 columns</p>\n",
       "</div>"
      ],
      "text/plain": [
       "   mean_fit_time  std_fit_time  mean_score_time  std_score_time  \\\n",
       "0       0.010150      0.005826         0.006263        0.006050   \n",
       "1       0.002043      0.004086         0.035987        0.062929   \n",
       "2       0.004728      0.006270         0.001751        0.002385   \n",
       "3       0.004460      0.006158         0.000603        0.001205   \n",
       "4       0.000778      0.001556         0.003125        0.006251   \n",
       "\n",
       "  param_n_neighbors param_weights                                     params  \\\n",
       "0                 1       uniform   {'n_neighbors': 1, 'weights': 'uniform'}   \n",
       "1                 1      distance  {'n_neighbors': 1, 'weights': 'distance'}   \n",
       "2                 2       uniform   {'n_neighbors': 2, 'weights': 'uniform'}   \n",
       "3                 2      distance  {'n_neighbors': 2, 'weights': 'distance'}   \n",
       "4                 3       uniform   {'n_neighbors': 3, 'weights': 'uniform'}   \n",
       "\n",
       "   split0_test_score  split1_test_score  split2_test_score  ...  \\\n",
       "0           0.710086           0.809994           0.742078  ...   \n",
       "1           0.710086           0.809994           0.742078  ...   \n",
       "2           0.717023           0.844813           0.843842  ...   \n",
       "3           0.683008           0.835433           0.751712  ...   \n",
       "4           0.768635           0.792175           0.801505  ...   \n",
       "\n",
       "   mean_test_score  std_test_score  rank_test_score  split0_train_score  \\\n",
       "0         0.802317        0.069723               58            0.933485   \n",
       "1         0.802317        0.069723               58            0.933485   \n",
       "2         0.829791        0.057820                1            0.893864   \n",
       "3         0.804585        0.076414               56            0.920831   \n",
       "4         0.805343        0.025340               55            0.902579   \n",
       "\n",
       "   split1_train_score  split2_train_score  split3_train_score  \\\n",
       "0            0.895632            0.910477            0.875701   \n",
       "1            0.895632            0.910477            0.875701   \n",
       "2            0.896142            0.898258            0.887452   \n",
       "3            0.919658            0.928883            0.908843   \n",
       "4            0.846808            0.854389            0.870773   \n",
       "\n",
       "   split4_train_score  mean_train_score  std_train_score  \n",
       "0            0.877927          0.898644         0.021534  \n",
       "1            0.877927          0.898644         0.021534  \n",
       "2            0.897754          0.894694         0.003932  \n",
       "3            0.917599          0.919163         0.006426  \n",
       "4            0.866608          0.868232         0.019180  \n",
       "\n",
       "[5 rows x 22 columns]"
      ]
     },
     "execution_count": 16,
     "metadata": {},
     "output_type": "execute_result"
    }
   ],
   "source": [
    "cv_results=pd.DataFrame(grid_search.cv_results_)\n",
    "cv_results.head()"
   ]
  },
  {
   "cell_type": "code",
   "execution_count": 17,
   "id": "5d7e3e04",
   "metadata": {},
   "outputs": [
    {
     "data": {
      "text/plain": [
       "<matplotlib.legend.Legend at 0x159687547c0>"
      ]
     },
     "execution_count": 17,
     "metadata": {},
     "output_type": "execute_result"
    },
    {
     "data": {
      "image/png": "[encoded data removed]",
      "text/plain": [
       "<Figure size 432x288 with 1 Axes>"
      ]
     },
     "metadata": {
      "needs_background": "light"
     },
     "output_type": "display_data"
    }
   ],
   "source": [
    "plt.plot(cv_results['param_n_neighbors'], cv_results['mean_train_score'])\n",
    "plt.plot(cv_results['param_n_neighbors'], cv_results['mean_test_score'])\n",
    "plt.xlabel('n_neighbors')\n",
    "plt.ylabel('Accuracy')\n",
    "plt.legend(['train accuracy', 'test accuracy'], loc='upper right')"
   ]
  },
  {
   "cell_type": "markdown",
   "id": "f2f061b4",
   "metadata": {},
   "source": [
    "RandomizedSearchCV"
   ]
  },
  {
   "cell_type": "code",
   "execution_count": 19,
   "id": "e6f51fca",
   "metadata": {},
   "outputs": [
    {
     "data": {
      "text/html": [
       "<style>#sk-container-id-2 {color: black;background-color: white;}#sk-container-id-2 pre{padding: 0;}#sk-container-id-2 div.sk-toggleable {background-color: white;}#sk-container-id-2 label.sk-toggleable__label {cursor: pointer;display: block;width: 100%;margin-bottom: 0;padding: 0.3em;box-sizing: border-box;text-align: center;}#sk-container-id-2 label.sk-toggleable__label-arrow:before {content: \"▸\";float: left;margin-right: 0.25em;color: #696969;}#sk-container-id-2 label.sk-toggleable__label-arrow:hover:before {color: black;}#sk-container-id-2 div.sk-estimator:hover label.sk-toggleable__label-arrow:before {color: black;}#sk-container-id-2 div.sk-toggleable__content {max-height: 0;max-width: 0;overflow: hidden;text-align: left;background-color: #f0f8ff;}#sk-container-id-2 div.sk-toggleable__content pre {margin: 0.2em;color: black;border-radius: 0.25em;background-color: #f0f8ff;}#sk-container-id-2 input.sk-toggleable__control:checked~div.sk-toggleable__content {max-height: 200px;max-width: 100%;overflow: auto;}#sk-container-id-2 input.sk-toggleable__control:checked~label.sk-toggleable__label-arrow:before {content: \"▾\";}#sk-container-id-2 div.sk-estimator input.sk-toggleable__control:checked~label.sk-toggleable__label {background-color: #d4ebff;}#sk-container-id-2 div.sk-label input.sk-toggleable__control:checked~label.sk-toggleable__label {background-color: #d4ebff;}#sk-container-id-2 input.sk-hidden--visually {border: 0;clip: rect(1px 1px 1px 1px);clip: rect(1px, 1px, 1px, 1px);height: 1px;margin: -1px;overflow: hidden;padding: 0;position: absolute;width: 1px;}#sk-container-id-2 div.sk-estimator {font-family: monospace;background-color: #f0f8ff;border: 1px dotted black;border-radius: 0.25em;box-sizing: border-box;margin-bottom: 0.5em;}#sk-container-id-2 div.sk-estimator:hover {background-color: #d4ebff;}#sk-container-id-2 div.sk-parallel-item::after {content: \"\";width: 100%;border-bottom: 1px solid gray;flex-grow: 1;}#sk-container-id-2 div.sk-label:hover label.sk-toggleable__label {background-color: #d4ebff;}#sk-container-id-2 div.sk-serial::before {content: \"\";position: absolute;border-left: 1px solid gray;box-sizing: border-box;top: 0;bottom: 0;left: 50%;z-index: 0;}#sk-container-id-2 div.sk-serial {display: flex;flex-direction: column;align-items: center;background-color: white;padding-right: 0.2em;padding-left: 0.2em;position: relative;}#sk-container-id-2 div.sk-item {position: relative;z-index: 1;}#sk-container-id-2 div.sk-parallel {display: flex;align-items: stretch;justify-content: center;background-color: white;position: relative;}#sk-container-id-2 div.sk-item::before, #sk-container-id-2 div.sk-parallel-item::before {content: \"\";position: absolute;border-left: 1px solid gray;box-sizing: border-box;top: 0;bottom: 0;left: 50%;z-index: -1;}#sk-container-id-2 div.sk-parallel-item {display: flex;flex-direction: column;z-index: 1;position: relative;background-color: white;}#sk-container-id-2 div.sk-parallel-item:first-child::after {align-self: flex-end;width: 50%;}#sk-container-id-2 div.sk-parallel-item:last-child::after {align-self: flex-start;width: 50%;}#sk-container-id-2 div.sk-parallel-item:only-child::after {width: 0;}#sk-container-id-2 div.sk-dashed-wrapped {border: 1px dashed gray;margin: 0 0.4em 0.5em 0.4em;box-sizing: border-box;padding-bottom: 0.4em;background-color: white;}#sk-container-id-2 div.sk-label label {font-family: monospace;font-weight: bold;display: inline-block;line-height: 1.2em;}#sk-container-id-2 div.sk-label-container {text-align: center;}#sk-container-id-2 div.sk-container {/* jupyter's `normalize.less` sets `[hidden] { display: none; }` but bootstrap.min.css set `[hidden] { display: none !important; }` so we also need the `!important` here to be able to override the default hidden behavior on the sphinx rendered scikit-learn.org. See: https://github.com/scikit-learn/scikit-learn/issues/21755 */display: inline-block !important;position: relative;}#sk-container-id-2 div.sk-text-repr-fallback {display: none;}</style><div id=\"sk-container-id-2\" class=\"sk-top-container\"><div class=\"sk-text-repr-fallback\"><pre>RandomizedSearchCV(cv=5, estimator=KNeighborsRegressor(), n_iter=50,\n",
       "                   param_distributions={&#x27;n_neighbors&#x27;: [1, 2, 3, 4, 5, 6, 7, 8,\n",
       "                                                        9, 10, 11, 12, 13, 14,\n",
       "                                                        15, 16, 17, 18, 19, 20,\n",
       "                                                        21, 22, 23, 24, 25, 26,\n",
       "                                                        27, 28, 29, 30, ...],\n",
       "                                        &#x27;weights&#x27;: [&#x27;uniform&#x27;, &#x27;distance&#x27;]},\n",
       "                   random_state=0)</pre><b>In a Jupyter environment, please rerun this cell to show the HTML representation or trust the notebook. <br />On GitHub, the HTML representation is unable to render, please try loading this page with nbviewer.org.</b></div><div class=\"sk-container\" hidden><div class=\"sk-item sk-dashed-wrapped\"><div class=\"sk-label-container\"><div class=\"sk-label sk-toggleable\"><input class=\"sk-toggleable__control sk-hidden--visually\" id=\"sk-estimator-id-4\" type=\"checkbox\" ><label for=\"sk-estimator-id-4\" class=\"sk-toggleable__label sk-toggleable__label-arrow\">RandomizedSearchCV</label><div class=\"sk-toggleable__content\"><pre>RandomizedSearchCV(cv=5, estimator=KNeighborsRegressor(), n_iter=50,\n",
       "                   param_distributions={&#x27;n_neighbors&#x27;: [1, 2, 3, 4, 5, 6, 7, 8,\n",
       "                                                        9, 10, 11, 12, 13, 14,\n",
       "                                                        15, 16, 17, 18, 19, 20,\n",
       "                                                        21, 22, 23, 24, 25, 26,\n",
       "                                                        27, 28, 29, 30, ...],\n",
       "                                        &#x27;weights&#x27;: [&#x27;uniform&#x27;, &#x27;distance&#x27;]},\n",
       "                   random_state=0)</pre></div></div></div><div class=\"sk-parallel\"><div class=\"sk-parallel-item\"><div class=\"sk-item\"><div class=\"sk-label-container\"><div class=\"sk-label sk-toggleable\"><input class=\"sk-toggleable__control sk-hidden--visually\" id=\"sk-estimator-id-5\" type=\"checkbox\" ><label for=\"sk-estimator-id-5\" class=\"sk-toggleable__label sk-toggleable__label-arrow\">estimator: KNeighborsRegressor</label><div class=\"sk-toggleable__content\"><pre>KNeighborsRegressor()</pre></div></div></div><div class=\"sk-serial\"><div class=\"sk-item\"><div class=\"sk-estimator sk-toggleable\"><input class=\"sk-toggleable__control sk-hidden--visually\" id=\"sk-estimator-id-6\" type=\"checkbox\" ><label for=\"sk-estimator-id-6\" class=\"sk-toggleable__label sk-toggleable__label-arrow\">KNeighborsRegressor</label><div class=\"sk-toggleable__content\"><pre>KNeighborsRegressor()</pre></div></div></div></div></div></div></div></div></div></div>"
      ],
      "text/plain": [
       "RandomizedSearchCV(cv=5, estimator=KNeighborsRegressor(), n_iter=50,\n",
       "                   param_distributions={'n_neighbors': [1, 2, 3, 4, 5, 6, 7, 8,\n",
       "                                                        9, 10, 11, 12, 13, 14,\n",
       "                                                        15, 16, 17, 18, 19, 20,\n",
       "                                                        21, 22, 23, 24, 25, 26,\n",
       "                                                        27, 28, 29, 30, ...],\n",
       "                                        'weights': ['uniform', 'distance']},\n",
       "                   random_state=0)"
      ]
     },
     "execution_count": 19,
     "metadata": {},
     "output_type": "execute_result"
    }
   ],
   "source": [
    "from sklearn.neighbors import KNeighborsRegressor\n",
    "from sklearn.model_selection import RandomizedSearchCV\n",
    "import numpy as np\n",
    "import pandas as pd\n",
    "param_grid={'n_neighbors':[i for i in range(1, 51)],\n",
    "                  'weights': ['uniform', 'distance']}\n",
    "knn=KNeighborsRegressor()\n",
    "random_search=RandomizedSearchCV(knn,param_distributions=param_grid,n_iter=50,cv=5,random_state=0)\n",
    "\n",
    "random_search.fit(X_train,y_train)\n"
   ]
  },
  {
   "cell_type": "code",
   "execution_count": 20,
   "id": "6403400d",
   "metadata": {},
   "outputs": [
    {
     "name": "stdout",
     "output_type": "stream",
     "text": [
      "Best hyperparameters: {'weights': 'uniform', 'n_neighbors': 2}\n"
     ]
    }
   ],
   "source": [
    "print(\"Best hyperparameters:\", random_search.best_params_)"
   ]
  },
  {
   "cell_type": "code",
   "execution_count": 21,
   "id": "114488d4",
   "metadata": {},
   "outputs": [
    {
     "name": "stdout",
     "output_type": "stream",
     "text": [
      "Best parameters set found on train set:\n",
      "{'weights': 'uniform', 'n_neighbors': 2}\n",
      "KNeighborsRegressor(n_neighbors=2)\n",
      "\n",
      "Score on Test Data:  0.8546229762835253\n"
     ]
    }
   ],
   "source": [
    "print(\"Best parameters set found on train set:\")\n",
    "print(random_search.best_params_)\n",
    "print(random_search.best_estimator_)\n",
    "print()\n",
    "print('Score on Test Data: ', random_search.score(X_test, y_test))"
   ]
  },
  {
   "cell_type": "markdown",
   "id": "c78435df",
   "metadata": {},
   "source": [
    "**DecisionTreeRegressor**\n",
    "\n",
    "GridSearchCV"
   ]
  },
  {
   "cell_type": "code",
   "execution_count": 25,
   "id": "1bb61177",
   "metadata": {},
   "outputs": [
    {
     "data": {
      "text/html": [
       "<style>#sk-container-id-4 {color: black;background-color: white;}#sk-container-id-4 pre{padding: 0;}#sk-container-id-4 div.sk-toggleable {background-color: white;}#sk-container-id-4 label.sk-toggleable__label {cursor: pointer;display: block;width: 100%;margin-bottom: 0;padding: 0.3em;box-sizing: border-box;text-align: center;}#sk-container-id-4 label.sk-toggleable__label-arrow:before {content: \"▸\";float: left;margin-right: 0.25em;color: #696969;}#sk-container-id-4 label.sk-toggleable__label-arrow:hover:before {color: black;}#sk-container-id-4 div.sk-estimator:hover label.sk-toggleable__label-arrow:before {color: black;}#sk-container-id-4 div.sk-toggleable__content {max-height: 0;max-width: 0;overflow: hidden;text-align: left;background-color: #f0f8ff;}#sk-container-id-4 div.sk-toggleable__content pre {margin: 0.2em;color: black;border-radius: 0.25em;background-color: #f0f8ff;}#sk-container-id-4 input.sk-toggleable__control:checked~div.sk-toggleable__content {max-height: 200px;max-width: 100%;overflow: auto;}#sk-container-id-4 input.sk-toggleable__control:checked~label.sk-toggleable__label-arrow:before {content: \"▾\";}#sk-container-id-4 div.sk-estimator input.sk-toggleable__control:checked~label.sk-toggleable__label {background-color: #d4ebff;}#sk-container-id-4 div.sk-label input.sk-toggleable__control:checked~label.sk-toggleable__label {background-color: #d4ebff;}#sk-container-id-4 input.sk-hidden--visually {border: 0;clip: rect(1px 1px 1px 1px);clip: rect(1px, 1px, 1px, 1px);height: 1px;margin: -1px;overflow: hidden;padding: 0;position: absolute;width: 1px;}#sk-container-id-4 div.sk-estimator {font-family: monospace;background-color: #f0f8ff;border: 1px dotted black;border-radius: 0.25em;box-sizing: border-box;margin-bottom: 0.5em;}#sk-container-id-4 div.sk-estimator:hover {background-color: #d4ebff;}#sk-container-id-4 div.sk-parallel-item::after {content: \"\";width: 100%;border-bottom: 1px solid gray;flex-grow: 1;}#sk-container-id-4 div.sk-label:hover label.sk-toggleable__label {background-color: #d4ebff;}#sk-container-id-4 div.sk-serial::before {content: \"\";position: absolute;border-left: 1px solid gray;box-sizing: border-box;top: 0;bottom: 0;left: 50%;z-index: 0;}#sk-container-id-4 div.sk-serial {display: flex;flex-direction: column;align-items: center;background-color: white;padding-right: 0.2em;padding-left: 0.2em;position: relative;}#sk-container-id-4 div.sk-item {position: relative;z-index: 1;}#sk-container-id-4 div.sk-parallel {display: flex;align-items: stretch;justify-content: center;background-color: white;position: relative;}#sk-container-id-4 div.sk-item::before, #sk-container-id-4 div.sk-parallel-item::before {content: \"\";position: absolute;border-left: 1px solid gray;box-sizing: border-box;top: 0;bottom: 0;left: 50%;z-index: -1;}#sk-container-id-4 div.sk-parallel-item {display: flex;flex-direction: column;z-index: 1;position: relative;background-color: white;}#sk-container-id-4 div.sk-parallel-item:first-child::after {align-self: flex-end;width: 50%;}#sk-container-id-4 div.sk-parallel-item:last-child::after {align-self: flex-start;width: 50%;}#sk-container-id-4 div.sk-parallel-item:only-child::after {width: 0;}#sk-container-id-4 div.sk-dashed-wrapped {border: 1px dashed gray;margin: 0 0.4em 0.5em 0.4em;box-sizing: border-box;padding-bottom: 0.4em;background-color: white;}#sk-container-id-4 div.sk-label label {font-family: monospace;font-weight: bold;display: inline-block;line-height: 1.2em;}#sk-container-id-4 div.sk-label-container {text-align: center;}#sk-container-id-4 div.sk-container {/* jupyter's `normalize.less` sets `[hidden] { display: none; }` but bootstrap.min.css set `[hidden] { display: none !important; }` so we also need the `!important` here to be able to override the default hidden behavior on the sphinx rendered scikit-learn.org. See: https://github.com/scikit-learn/scikit-learn/issues/21755 */display: inline-block !important;position: relative;}#sk-container-id-4 div.sk-text-repr-fallback {display: none;}</style><div id=\"sk-container-id-4\" class=\"sk-top-container\"><div class=\"sk-text-repr-fallback\"><pre>GridSearchCV(cv=5, estimator=DecisionTreeRegressor(),\n",
       "             param_grid={&#x27;max_depth&#x27;: [3, 5, 7, 9, None],\n",
       "                         &#x27;min_samples_leaf&#x27;: [1, 3, 5, 7, 9],\n",
       "                         &#x27;min_samples_split&#x27;: [2, 4, 6, 8, 10]})</pre><b>In a Jupyter environment, please rerun this cell to show the HTML representation or trust the notebook. <br />On GitHub, the HTML representation is unable to render, please try loading this page with nbviewer.org.</b></div><div class=\"sk-container\" hidden><div class=\"sk-item sk-dashed-wrapped\"><div class=\"sk-label-container\"><div class=\"sk-label sk-toggleable\"><input class=\"sk-toggleable__control sk-hidden--visually\" id=\"sk-estimator-id-8\" type=\"checkbox\" ><label for=\"sk-estimator-id-8\" class=\"sk-toggleable__label sk-toggleable__label-arrow\">GridSearchCV</label><div class=\"sk-toggleable__content\"><pre>GridSearchCV(cv=5, estimator=DecisionTreeRegressor(),\n",
       "             param_grid={&#x27;max_depth&#x27;: [3, 5, 7, 9, None],\n",
       "                         &#x27;min_samples_leaf&#x27;: [1, 3, 5, 7, 9],\n",
       "                         &#x27;min_samples_split&#x27;: [2, 4, 6, 8, 10]})</pre></div></div></div><div class=\"sk-parallel\"><div class=\"sk-parallel-item\"><div class=\"sk-item\"><div class=\"sk-label-container\"><div class=\"sk-label sk-toggleable\"><input class=\"sk-toggleable__control sk-hidden--visually\" id=\"sk-estimator-id-9\" type=\"checkbox\" ><label for=\"sk-estimator-id-9\" class=\"sk-toggleable__label sk-toggleable__label-arrow\">estimator: DecisionTreeRegressor</label><div class=\"sk-toggleable__content\"><pre>DecisionTreeRegressor()</pre></div></div></div><div class=\"sk-serial\"><div class=\"sk-item\"><div class=\"sk-estimator sk-toggleable\"><input class=\"sk-toggleable__control sk-hidden--visually\" id=\"sk-estimator-id-10\" type=\"checkbox\" ><label for=\"sk-estimator-id-10\" class=\"sk-toggleable__label sk-toggleable__label-arrow\">DecisionTreeRegressor</label><div class=\"sk-toggleable__content\"><pre>DecisionTreeRegressor()</pre></div></div></div></div></div></div></div></div></div></div>"
      ],
      "text/plain": [
       "GridSearchCV(cv=5, estimator=DecisionTreeRegressor(),\n",
       "             param_grid={'max_depth': [3, 5, 7, 9, None],\n",
       "                         'min_samples_leaf': [1, 3, 5, 7, 9],\n",
       "                         'min_samples_split': [2, 4, 6, 8, 10]})"
      ]
     },
     "execution_count": 25,
     "metadata": {},
     "output_type": "execute_result"
    }
   ],
   "source": [
    "from sklearn.tree import DecisionTreeRegressor\n",
    "from sklearn.model_selection import GridSearchCV\n",
    "param_grid={'max_depth': [3, 5, 7, 9, None],\n",
    "              'min_samples_split': [2, 4, 6, 8, 10],\n",
    "              'min_samples_leaf': [1, 3, 5, 7, 9]}\n",
    "reg=DecisionTreeRegressor()\n",
    "grid_search=GridSearchCV(reg,param_grid,cv=5)\n",
    "grid_search.fit(X_train,y_train)"
   ]
  },
  {
   "cell_type": "code",
   "execution_count": 28,
   "id": "17670689",
   "metadata": {},
   "outputs": [
    {
     "data": {
      "text/html": [
       "<style>#sk-container-id-6 {color: black;background-color: white;}#sk-container-id-6 pre{padding: 0;}#sk-container-id-6 div.sk-toggleable {background-color: white;}#sk-container-id-6 label.sk-toggleable__label {cursor: pointer;display: block;width: 100%;margin-bottom: 0;padding: 0.3em;box-sizing: border-box;text-align: center;}#sk-container-id-6 label.sk-toggleable__label-arrow:before {content: \"▸\";float: left;margin-right: 0.25em;color: #696969;}#sk-container-id-6 label.sk-toggleable__label-arrow:hover:before {color: black;}#sk-container-id-6 div.sk-estimator:hover label.sk-toggleable__label-arrow:before {color: black;}#sk-container-id-6 div.sk-toggleable__content {max-height: 0;max-width: 0;overflow: hidden;text-align: left;background-color: #f0f8ff;}#sk-container-id-6 div.sk-toggleable__content pre {margin: 0.2em;color: black;border-radius: 0.25em;background-color: #f0f8ff;}#sk-container-id-6 input.sk-toggleable__control:checked~div.sk-toggleable__content {max-height: 200px;max-width: 100%;overflow: auto;}#sk-container-id-6 input.sk-toggleable__control:checked~label.sk-toggleable__label-arrow:before {content: \"▾\";}#sk-container-id-6 div.sk-estimator input.sk-toggleable__control:checked~label.sk-toggleable__label {background-color: #d4ebff;}#sk-container-id-6 div.sk-label input.sk-toggleable__control:checked~label.sk-toggleable__label {background-color: #d4ebff;}#sk-container-id-6 input.sk-hidden--visually {border: 0;clip: rect(1px 1px 1px 1px);clip: rect(1px, 1px, 1px, 1px);height: 1px;margin: -1px;overflow: hidden;padding: 0;position: absolute;width: 1px;}#sk-container-id-6 div.sk-estimator {font-family: monospace;background-color: #f0f8ff;border: 1px dotted black;border-radius: 0.25em;box-sizing: border-box;margin-bottom: 0.5em;}#sk-container-id-6 div.sk-estimator:hover {background-color: #d4ebff;}#sk-container-id-6 div.sk-parallel-item::after {content: \"\";width: 100%;border-bottom: 1px solid gray;flex-grow: 1;}#sk-container-id-6 div.sk-label:hover label.sk-toggleable__label {background-color: #d4ebff;}#sk-container-id-6 div.sk-serial::before {content: \"\";position: absolute;border-left: 1px solid gray;box-sizing: border-box;top: 0;bottom: 0;left: 50%;z-index: 0;}#sk-container-id-6 div.sk-serial {display: flex;flex-direction: column;align-items: center;background-color: white;padding-right: 0.2em;padding-left: 0.2em;position: relative;}#sk-container-id-6 div.sk-item {position: relative;z-index: 1;}#sk-container-id-6 div.sk-parallel {display: flex;align-items: stretch;justify-content: center;background-color: white;position: relative;}#sk-container-id-6 div.sk-item::before, #sk-container-id-6 div.sk-parallel-item::before {content: \"\";position: absolute;border-left: 1px solid gray;box-sizing: border-box;top: 0;bottom: 0;left: 50%;z-index: -1;}#sk-container-id-6 div.sk-parallel-item {display: flex;flex-direction: column;z-index: 1;position: relative;background-color: white;}#sk-container-id-6 div.sk-parallel-item:first-child::after {align-self: flex-end;width: 50%;}#sk-container-id-6 div.sk-parallel-item:last-child::after {align-self: flex-start;width: 50%;}#sk-container-id-6 div.sk-parallel-item:only-child::after {width: 0;}#sk-container-id-6 div.sk-dashed-wrapped {border: 1px dashed gray;margin: 0 0.4em 0.5em 0.4em;box-sizing: border-box;padding-bottom: 0.4em;background-color: white;}#sk-container-id-6 div.sk-label label {font-family: monospace;font-weight: bold;display: inline-block;line-height: 1.2em;}#sk-container-id-6 div.sk-label-container {text-align: center;}#sk-container-id-6 div.sk-container {/* jupyter's `normalize.less` sets `[hidden] { display: none; }` but bootstrap.min.css set `[hidden] { display: none !important; }` so we also need the `!important` here to be able to override the default hidden behavior on the sphinx rendered scikit-learn.org. See: https://github.com/scikit-learn/scikit-learn/issues/21755 */display: inline-block !important;position: relative;}#sk-container-id-6 div.sk-text-repr-fallback {display: none;}</style><div id=\"sk-container-id-6\" class=\"sk-top-container\"><div class=\"sk-text-repr-fallback\"><pre>DecisionTreeRegressor(min_samples_leaf=3, min_samples_split=10)</pre><b>In a Jupyter environment, please rerun this cell to show the HTML representation or trust the notebook. <br />On GitHub, the HTML representation is unable to render, please try loading this page with nbviewer.org.</b></div><div class=\"sk-container\" hidden><div class=\"sk-item\"><div class=\"sk-estimator sk-toggleable\"><input class=\"sk-toggleable__control sk-hidden--visually\" id=\"sk-estimator-id-12\" type=\"checkbox\" checked><label for=\"sk-estimator-id-12\" class=\"sk-toggleable__label sk-toggleable__label-arrow\">DecisionTreeRegressor</label><div class=\"sk-toggleable__content\"><pre>DecisionTreeRegressor(min_samples_leaf=3, min_samples_split=10)</pre></div></div></div></div></div>"
      ],
      "text/plain": [
       "DecisionTreeRegressor(min_samples_leaf=3, min_samples_split=10)"
      ]
     },
     "execution_count": 28,
     "metadata": {},
     "output_type": "execute_result"
    }
   ],
   "source": [
    "#Get the best hyperparameters\n",
    "best_params=grid_search.best_params_\n",
    "#Train the final model using the best hyperparameters\n",
    "final_model=DecisionTreeRegressor(**best_params)\n",
    "final_model.fit(X_train,y_train)"
   ]
  },
  {
   "cell_type": "code",
   "execution_count": 27,
   "id": "691a2d4c",
   "metadata": {},
   "outputs": [
    {
     "name": "stdout",
     "output_type": "stream",
     "text": [
      "Score on Test Data: 0.8115822278046574\n",
      "Score on Train Data: 0.887286969568501\n"
     ]
    }
   ],
   "source": [
    "print('Score on Test Data:',grid_search.score(X_test,y_test))\n",
    "print('Score on Train Data:',grid_search.score(X_train,y_train))"
   ]
  },
  {
   "cell_type": "markdown",
   "id": "6a055dc9",
   "metadata": {},
   "source": [
    "**RandomForestRegressor:**"
   ]
  },
  {
   "cell_type": "markdown",
   "id": "5b247cc0",
   "metadata": {},
   "source": [
    "GridSearchCV"
   ]
  },
  {
   "cell_type": "code",
   "execution_count": 9,
   "id": "c0c003c1",
   "metadata": {},
   "outputs": [
    {
     "name": "stdout",
     "output_type": "stream",
     "text": [
      "Best parameters: {'max_depth': None, 'min_samples_leaf': 1, 'min_samples_split': 10, 'n_estimators': 100}\n",
      "Best score: -561669538.5418725\n"
     ]
    }
   ],
   "source": [
    "import pandas as pd\n",
    "from sklearn.ensemble import RandomForestRegressor\n",
    "from sklearn.model_selection import GridSearchCV\n",
    "from sklearn.metrics import mean_squared_error, make_scorer\n",
    "rf=RandomForestRegressor()\n",
    "param_grid={'n_estimators': [100, 250, 500],\n",
    "    'max_depth': [None, 5, 10, 15],\n",
    "    'min_samples_split': [2, 5, 10],\n",
    "    'min_samples_leaf': [1, 2, 4]\n",
    "}\n",
    "#score metric\n",
    "scorer=make_scorer(mean_squared_error,greater_is_better=False)\n",
    "#GridSearchCV using score metric\n",
    "grid_search=GridSearchCV(estimator=rf,param_grid=param_grid,scoring=scorer,cv=5)\n",
    "grid_search.fit(X_train,y_train)\n",
    "# Print the best parameters and score\n",
    "print('Best parameters:', grid_search.best_params_)\n",
    "print('Best score:', grid_search.best_score_)"
   ]
  },
  {
   "cell_type": "markdown",
   "id": "93c84e7a",
   "metadata": {},
   "source": [
    "Tunning Max_depth:"
   ]
  },
  {
   "cell_type": "code",
   "execution_count": 10,
   "id": "f739d308",
   "metadata": {},
   "outputs": [
    {
     "data": {
      "text/html": [
       "<style>#sk-container-id-1 {color: black;background-color: white;}#sk-container-id-1 pre{padding: 0;}#sk-container-id-1 div.sk-toggleable {background-color: white;}#sk-container-id-1 label.sk-toggleable__label {cursor: pointer;display: block;width: 100%;margin-bottom: 0;padding: 0.3em;box-sizing: border-box;text-align: center;}#sk-container-id-1 label.sk-toggleable__label-arrow:before {content: \"▸\";float: left;margin-right: 0.25em;color: #696969;}#sk-container-id-1 label.sk-toggleable__label-arrow:hover:before {color: black;}#sk-container-id-1 div.sk-estimator:hover label.sk-toggleable__label-arrow:before {color: black;}#sk-container-id-1 div.sk-toggleable__content {max-height: 0;max-width: 0;overflow: hidden;text-align: left;background-color: #f0f8ff;}#sk-container-id-1 div.sk-toggleable__content pre {margin: 0.2em;color: black;border-radius: 0.25em;background-color: #f0f8ff;}#sk-container-id-1 input.sk-toggleable__control:checked~div.sk-toggleable__content {max-height: 200px;max-width: 100%;overflow: auto;}#sk-container-id-1 input.sk-toggleable__control:checked~label.sk-toggleable__label-arrow:before {content: \"▾\";}#sk-container-id-1 div.sk-estimator input.sk-toggleable__control:checked~label.sk-toggleable__label {background-color: #d4ebff;}#sk-container-id-1 div.sk-label input.sk-toggleable__control:checked~label.sk-toggleable__label {background-color: #d4ebff;}#sk-container-id-1 input.sk-hidden--visually {border: 0;clip: rect(1px 1px 1px 1px);clip: rect(1px, 1px, 1px, 1px);height: 1px;margin: -1px;overflow: hidden;padding: 0;position: absolute;width: 1px;}#sk-container-id-1 div.sk-estimator {font-family: monospace;background-color: #f0f8ff;border: 1px dotted black;border-radius: 0.25em;box-sizing: border-box;margin-bottom: 0.5em;}#sk-container-id-1 div.sk-estimator:hover {background-color: #d4ebff;}#sk-container-id-1 div.sk-parallel-item::after {content: \"\";width: 100%;border-bottom: 1px solid gray;flex-grow: 1;}#sk-container-id-1 div.sk-label:hover label.sk-toggleable__label {background-color: #d4ebff;}#sk-container-id-1 div.sk-serial::before {content: \"\";position: absolute;border-left: 1px solid gray;box-sizing: border-box;top: 0;bottom: 0;left: 50%;z-index: 0;}#sk-container-id-1 div.sk-serial {display: flex;flex-direction: column;align-items: center;background-color: white;padding-right: 0.2em;padding-left: 0.2em;position: relative;}#sk-container-id-1 div.sk-item {position: relative;z-index: 1;}#sk-container-id-1 div.sk-parallel {display: flex;align-items: stretch;justify-content: center;background-color: white;position: relative;}#sk-container-id-1 div.sk-item::before, #sk-container-id-1 div.sk-parallel-item::before {content: \"\";position: absolute;border-left: 1px solid gray;box-sizing: border-box;top: 0;bottom: 0;left: 50%;z-index: -1;}#sk-container-id-1 div.sk-parallel-item {display: flex;flex-direction: column;z-index: 1;position: relative;background-color: white;}#sk-container-id-1 div.sk-parallel-item:first-child::after {align-self: flex-end;width: 50%;}#sk-container-id-1 div.sk-parallel-item:last-child::after {align-self: flex-start;width: 50%;}#sk-container-id-1 div.sk-parallel-item:only-child::after {width: 0;}#sk-container-id-1 div.sk-dashed-wrapped {border: 1px dashed gray;margin: 0 0.4em 0.5em 0.4em;box-sizing: border-box;padding-bottom: 0.4em;background-color: white;}#sk-container-id-1 div.sk-label label {font-family: monospace;font-weight: bold;display: inline-block;line-height: 1.2em;}#sk-container-id-1 div.sk-label-container {text-align: center;}#sk-container-id-1 div.sk-container {/* jupyter's `normalize.less` sets `[hidden] { display: none; }` but bootstrap.min.css set `[hidden] { display: none !important; }` so we also need the `!important` here to be able to override the default hidden behavior on the sphinx rendered scikit-learn.org. See: https://github.com/scikit-learn/scikit-learn/issues/21755 */display: inline-block !important;position: relative;}#sk-container-id-1 div.sk-text-repr-fallback {display: none;}</style><div id=\"sk-container-id-1\" class=\"sk-top-container\"><div class=\"sk-text-repr-fallback\"><pre>GridSearchCV(cv=5, estimator=RandomForestRegressor(),\n",
       "             param_grid={&#x27;max_depth&#x27;: [1, 2, 3, 4, 5]},\n",
       "             return_train_score=True)</pre><b>In a Jupyter environment, please rerun this cell to show the HTML representation or trust the notebook. <br />On GitHub, the HTML representation is unable to render, please try loading this page with nbviewer.org.</b></div><div class=\"sk-container\" hidden><div class=\"sk-item sk-dashed-wrapped\"><div class=\"sk-label-container\"><div class=\"sk-label sk-toggleable\"><input class=\"sk-toggleable__control sk-hidden--visually\" id=\"sk-estimator-id-1\" type=\"checkbox\" ><label for=\"sk-estimator-id-1\" class=\"sk-toggleable__label sk-toggleable__label-arrow\">GridSearchCV</label><div class=\"sk-toggleable__content\"><pre>GridSearchCV(cv=5, estimator=RandomForestRegressor(),\n",
       "             param_grid={&#x27;max_depth&#x27;: [1, 2, 3, 4, 5]},\n",
       "             return_train_score=True)</pre></div></div></div><div class=\"sk-parallel\"><div class=\"sk-parallel-item\"><div class=\"sk-item\"><div class=\"sk-label-container\"><div class=\"sk-label sk-toggleable\"><input class=\"sk-toggleable__control sk-hidden--visually\" id=\"sk-estimator-id-2\" type=\"checkbox\" ><label for=\"sk-estimator-id-2\" class=\"sk-toggleable__label sk-toggleable__label-arrow\">estimator: RandomForestRegressor</label><div class=\"sk-toggleable__content\"><pre>RandomForestRegressor()</pre></div></div></div><div class=\"sk-serial\"><div class=\"sk-item\"><div class=\"sk-estimator sk-toggleable\"><input class=\"sk-toggleable__control sk-hidden--visually\" id=\"sk-estimator-id-3\" type=\"checkbox\" ><label for=\"sk-estimator-id-3\" class=\"sk-toggleable__label sk-toggleable__label-arrow\">RandomForestRegressor</label><div class=\"sk-toggleable__content\"><pre>RandomForestRegressor()</pre></div></div></div></div></div></div></div></div></div></div>"
      ],
      "text/plain": [
       "GridSearchCV(cv=5, estimator=RandomForestRegressor(),\n",
       "             param_grid={'max_depth': [1, 2, 3, 4, 5]},\n",
       "             return_train_score=True)"
      ]
     },
     "execution_count": 10,
     "metadata": {},
     "output_type": "execute_result"
    }
   ],
   "source": [
    "from sklearn.ensemble import RandomForestRegressor\n",
    "from sklearn.model_selection import GridSearchCV\n",
    "param_grid={'max_depth':[1,2,3,4,5]}\n",
    "reg=RandomForestRegressor()\n",
    "grid_search=GridSearchCV(reg,param_grid,cv=5,return_train_score=True)\n",
    "grid_search.fit(X_train,y_train)\n"
   ]
  },
  {
   "cell_type": "code",
   "execution_count": 11,
   "id": "321b771f",
   "metadata": {},
   "outputs": [
    {
     "name": "stdout",
     "output_type": "stream",
     "text": [
      "Best parameters set found on train set\n",
      "{'max_depth': 5}\n",
      "RandomForestRegressor(max_depth=5)\n",
      "\n",
      "Score on Test Data:  0.8528976387309997\n"
     ]
    }
   ],
   "source": [
    "print(\"Best parameters set found on train set\")\n",
    "print(grid_search.best_params_)\n",
    "print(grid_search.best_estimator_)\n",
    "print()\n",
    "\n",
    "print('Score on Test Data: ', grid_search.score(X_test, y_test))"
   ]
  },
  {
   "cell_type": "code",
   "execution_count": 12,
   "id": "d2709c5e",
   "metadata": {},
   "outputs": [
    {
     "data": {
      "text/html": [
       "<div>\n",
       "<style scoped>\n",
       "    .dataframe tbody tr th:only-of-type {\n",
       "        vertical-align: middle;\n",
       "    }\n",
       "\n",
       "    .dataframe tbody tr th {\n",
       "        vertical-align: top;\n",
       "    }\n",
       "\n",
       "    .dataframe thead th {\n",
       "        text-align: right;\n",
       "    }\n",
       "</style>\n",
       "<table border=\"1\" class=\"dataframe\">\n",
       "  <thead>\n",
       "    <tr style=\"text-align: right;\">\n",
       "      <th></th>\n",
       "      <th>mean_fit_time</th>\n",
       "      <th>std_fit_time</th>\n",
       "      <th>mean_score_time</th>\n",
       "      <th>std_score_time</th>\n",
       "      <th>param_max_depth</th>\n",
       "      <th>params</th>\n",
       "      <th>split0_test_score</th>\n",
       "      <th>split1_test_score</th>\n",
       "      <th>split2_test_score</th>\n",
       "      <th>split3_test_score</th>\n",
       "      <th>...</th>\n",
       "      <th>mean_test_score</th>\n",
       "      <th>std_test_score</th>\n",
       "      <th>rank_test_score</th>\n",
       "      <th>split0_train_score</th>\n",
       "      <th>split1_train_score</th>\n",
       "      <th>split2_train_score</th>\n",
       "      <th>split3_train_score</th>\n",
       "      <th>split4_train_score</th>\n",
       "      <th>mean_train_score</th>\n",
       "      <th>std_train_score</th>\n",
       "    </tr>\n",
       "  </thead>\n",
       "  <tbody>\n",
       "    <tr>\n",
       "      <th>0</th>\n",
       "      <td>0.151010</td>\n",
       "      <td>0.056227</td>\n",
       "      <td>0.012784</td>\n",
       "      <td>0.006563</td>\n",
       "      <td>1</td>\n",
       "      <td>{'max_depth': 1}</td>\n",
       "      <td>0.496510</td>\n",
       "      <td>0.651174</td>\n",
       "      <td>0.655669</td>\n",
       "      <td>0.568494</td>\n",
       "      <td>...</td>\n",
       "      <td>0.594698</td>\n",
       "      <td>0.058792</td>\n",
       "      <td>5</td>\n",
       "      <td>0.618360</td>\n",
       "      <td>0.585750</td>\n",
       "      <td>0.593258</td>\n",
       "      <td>0.602391</td>\n",
       "      <td>0.594732</td>\n",
       "      <td>0.598898</td>\n",
       "      <td>0.011072</td>\n",
       "    </tr>\n",
       "    <tr>\n",
       "      <th>1</th>\n",
       "      <td>0.097286</td>\n",
       "      <td>0.006244</td>\n",
       "      <td>0.006250</td>\n",
       "      <td>0.007655</td>\n",
       "      <td>2</td>\n",
       "      <td>{'max_depth': 2}</td>\n",
       "      <td>0.713403</td>\n",
       "      <td>0.823775</td>\n",
       "      <td>0.780439</td>\n",
       "      <td>0.764178</td>\n",
       "      <td>...</td>\n",
       "      <td>0.754214</td>\n",
       "      <td>0.047976</td>\n",
       "      <td>4</td>\n",
       "      <td>0.775123</td>\n",
       "      <td>0.759069</td>\n",
       "      <td>0.761431</td>\n",
       "      <td>0.757987</td>\n",
       "      <td>0.775758</td>\n",
       "      <td>0.765874</td>\n",
       "      <td>0.007893</td>\n",
       "    </tr>\n",
       "    <tr>\n",
       "      <th>2</th>\n",
       "      <td>0.109587</td>\n",
       "      <td>0.015526</td>\n",
       "      <td>0.010654</td>\n",
       "      <td>0.005792</td>\n",
       "      <td>3</td>\n",
       "      <td>{'max_depth': 3}</td>\n",
       "      <td>0.725769</td>\n",
       "      <td>0.828208</td>\n",
       "      <td>0.776386</td>\n",
       "      <td>0.818873</td>\n",
       "      <td>...</td>\n",
       "      <td>0.780424</td>\n",
       "      <td>0.038790</td>\n",
       "      <td>3</td>\n",
       "      <td>0.842334</td>\n",
       "      <td>0.826143</td>\n",
       "      <td>0.830776</td>\n",
       "      <td>0.814177</td>\n",
       "      <td>0.830077</td>\n",
       "      <td>0.828702</td>\n",
       "      <td>0.009050</td>\n",
       "    </tr>\n",
       "    <tr>\n",
       "      <th>3</th>\n",
       "      <td>0.114074</td>\n",
       "      <td>0.015666</td>\n",
       "      <td>0.002804</td>\n",
       "      <td>0.004461</td>\n",
       "      <td>4</td>\n",
       "      <td>{'max_depth': 4}</td>\n",
       "      <td>0.750054</td>\n",
       "      <td>0.861716</td>\n",
       "      <td>0.800049</td>\n",
       "      <td>0.862436</td>\n",
       "      <td>...</td>\n",
       "      <td>0.821057</td>\n",
       "      <td>0.042303</td>\n",
       "      <td>2</td>\n",
       "      <td>0.903048</td>\n",
       "      <td>0.878742</td>\n",
       "      <td>0.889511</td>\n",
       "      <td>0.875409</td>\n",
       "      <td>0.880222</td>\n",
       "      <td>0.885386</td>\n",
       "      <td>0.009993</td>\n",
       "    </tr>\n",
       "    <tr>\n",
       "      <th>4</th>\n",
       "      <td>0.100315</td>\n",
       "      <td>0.007753</td>\n",
       "      <td>0.011280</td>\n",
       "      <td>0.006118</td>\n",
       "      <td>5</td>\n",
       "      <td>{'max_depth': 5}</td>\n",
       "      <td>0.763397</td>\n",
       "      <td>0.873036</td>\n",
       "      <td>0.803600</td>\n",
       "      <td>0.869732</td>\n",
       "      <td>...</td>\n",
       "      <td>0.834622</td>\n",
       "      <td>0.043746</td>\n",
       "      <td>1</td>\n",
       "      <td>0.929452</td>\n",
       "      <td>0.902972</td>\n",
       "      <td>0.918411</td>\n",
       "      <td>0.900998</td>\n",
       "      <td>0.902141</td>\n",
       "      <td>0.910795</td>\n",
       "      <td>0.011297</td>\n",
       "    </tr>\n",
       "  </tbody>\n",
       "</table>\n",
       "<p>5 rows × 21 columns</p>\n",
       "</div>"
      ],
      "text/plain": [
       "   mean_fit_time  std_fit_time  mean_score_time  std_score_time  \\\n",
       "0       0.151010      0.056227         0.012784        0.006563   \n",
       "1       0.097286      0.006244         0.006250        0.007655   \n",
       "2       0.109587      0.015526         0.010654        0.005792   \n",
       "3       0.114074      0.015666         0.002804        0.004461   \n",
       "4       0.100315      0.007753         0.011280        0.006118   \n",
       "\n",
       "  param_max_depth            params  split0_test_score  split1_test_score  \\\n",
       "0               1  {'max_depth': 1}           0.496510           0.651174   \n",
       "1               2  {'max_depth': 2}           0.713403           0.823775   \n",
       "2               3  {'max_depth': 3}           0.725769           0.828208   \n",
       "3               4  {'max_depth': 4}           0.750054           0.861716   \n",
       "4               5  {'max_depth': 5}           0.763397           0.873036   \n",
       "\n",
       "   split2_test_score  split3_test_score  ...  mean_test_score  std_test_score  \\\n",
       "0           0.655669           0.568494  ...         0.594698        0.058792   \n",
       "1           0.780439           0.764178  ...         0.754214        0.047976   \n",
       "2           0.776386           0.818873  ...         0.780424        0.038790   \n",
       "3           0.800049           0.862436  ...         0.821057        0.042303   \n",
       "4           0.803600           0.869732  ...         0.834622        0.043746   \n",
       "\n",
       "   rank_test_score  split0_train_score  split1_train_score  \\\n",
       "0                5            0.618360            0.585750   \n",
       "1                4            0.775123            0.759069   \n",
       "2                3            0.842334            0.826143   \n",
       "3                2            0.903048            0.878742   \n",
       "4                1            0.929452            0.902972   \n",
       "\n",
       "   split2_train_score  split3_train_score  split4_train_score  \\\n",
       "0            0.593258            0.602391            0.594732   \n",
       "1            0.761431            0.757987            0.775758   \n",
       "2            0.830776            0.814177            0.830077   \n",
       "3            0.889511            0.875409            0.880222   \n",
       "4            0.918411            0.900998            0.902141   \n",
       "\n",
       "   mean_train_score  std_train_score  \n",
       "0          0.598898         0.011072  \n",
       "1          0.765874         0.007893  \n",
       "2          0.828702         0.009050  \n",
       "3          0.885386         0.009993  \n",
       "4          0.910795         0.011297  \n",
       "\n",
       "[5 rows x 21 columns]"
      ]
     },
     "execution_count": 12,
     "metadata": {},
     "output_type": "execute_result"
    }
   ],
   "source": [
    "cv_results = pd.DataFrame(grid_search.cv_results_)\n",
    "\n",
    "cv_results.head()"
   ]
  },
  {
   "cell_type": "code",
   "execution_count": 13,
   "id": "41d6f67d",
   "metadata": {},
   "outputs": [
    {
     "data": {
      "text/plain": [
       "<matplotlib.legend.Legend at 0x18c43ae0e20>"
      ]
     },
     "execution_count": 13,
     "metadata": {},
     "output_type": "execute_result"
    },
    {
     "data": {
      "image/png": "[encoded data removed]",
      "text/plain": [
       "<Figure size 432x288 with 1 Axes>"
      ]
     },
     "metadata": {
      "needs_background": "light"
     },
     "output_type": "display_data"
    }
   ],
   "source": [
    "plt.plot(cv_results['param_max_depth'], cv_results['mean_train_score'])\n",
    "plt.plot(cv_results['param_max_depth'], cv_results['mean_test_score'])\n",
    "plt.xlabel('max_depth')\n",
    "plt.ylabel('Accuracy')\n",
    "plt.legend(['train accuracy', 'test accuracy'], loc='upper left')"
   ]
  },
  {
   "cell_type": "markdown",
   "id": "bca8c312",
   "metadata": {},
   "source": [
    "Tunning n_estimators:"
   ]
  },
  {
   "cell_type": "code",
   "execution_count": 14,
   "id": "024cffe5",
   "metadata": {},
   "outputs": [
    {
     "name": "stdout",
     "output_type": "stream",
     "text": [
      "Fitting 5 folds for each of 7 candidates, totalling 35 fits\n"
     ]
    },
    {
     "data": {
      "text/html": [
       "<style>#sk-container-id-2 {color: black;background-color: white;}#sk-container-id-2 pre{padding: 0;}#sk-container-id-2 div.sk-toggleable {background-color: white;}#sk-container-id-2 label.sk-toggleable__label {cursor: pointer;display: block;width: 100%;margin-bottom: 0;padding: 0.3em;box-sizing: border-box;text-align: center;}#sk-container-id-2 label.sk-toggleable__label-arrow:before {content: \"▸\";float: left;margin-right: 0.25em;color: #696969;}#sk-container-id-2 label.sk-toggleable__label-arrow:hover:before {color: black;}#sk-container-id-2 div.sk-estimator:hover label.sk-toggleable__label-arrow:before {color: black;}#sk-container-id-2 div.sk-toggleable__content {max-height: 0;max-width: 0;overflow: hidden;text-align: left;background-color: #f0f8ff;}#sk-container-id-2 div.sk-toggleable__content pre {margin: 0.2em;color: black;border-radius: 0.25em;background-color: #f0f8ff;}#sk-container-id-2 input.sk-toggleable__control:checked~div.sk-toggleable__content {max-height: 200px;max-width: 100%;overflow: auto;}#sk-container-id-2 input.sk-toggleable__control:checked~label.sk-toggleable__label-arrow:before {content: \"▾\";}#sk-container-id-2 div.sk-estimator input.sk-toggleable__control:checked~label.sk-toggleable__label {background-color: #d4ebff;}#sk-container-id-2 div.sk-label input.sk-toggleable__control:checked~label.sk-toggleable__label {background-color: #d4ebff;}#sk-container-id-2 input.sk-hidden--visually {border: 0;clip: rect(1px 1px 1px 1px);clip: rect(1px, 1px, 1px, 1px);height: 1px;margin: -1px;overflow: hidden;padding: 0;position: absolute;width: 1px;}#sk-container-id-2 div.sk-estimator {font-family: monospace;background-color: #f0f8ff;border: 1px dotted black;border-radius: 0.25em;box-sizing: border-box;margin-bottom: 0.5em;}#sk-container-id-2 div.sk-estimator:hover {background-color: #d4ebff;}#sk-container-id-2 div.sk-parallel-item::after {content: \"\";width: 100%;border-bottom: 1px solid gray;flex-grow: 1;}#sk-container-id-2 div.sk-label:hover label.sk-toggleable__label {background-color: #d4ebff;}#sk-container-id-2 div.sk-serial::before {content: \"\";position: absolute;border-left: 1px solid gray;box-sizing: border-box;top: 0;bottom: 0;left: 50%;z-index: 0;}#sk-container-id-2 div.sk-serial {display: flex;flex-direction: column;align-items: center;background-color: white;padding-right: 0.2em;padding-left: 0.2em;position: relative;}#sk-container-id-2 div.sk-item {position: relative;z-index: 1;}#sk-container-id-2 div.sk-parallel {display: flex;align-items: stretch;justify-content: center;background-color: white;position: relative;}#sk-container-id-2 div.sk-item::before, #sk-container-id-2 div.sk-parallel-item::before {content: \"\";position: absolute;border-left: 1px solid gray;box-sizing: border-box;top: 0;bottom: 0;left: 50%;z-index: -1;}#sk-container-id-2 div.sk-parallel-item {display: flex;flex-direction: column;z-index: 1;position: relative;background-color: white;}#sk-container-id-2 div.sk-parallel-item:first-child::after {align-self: flex-end;width: 50%;}#sk-container-id-2 div.sk-parallel-item:last-child::after {align-self: flex-start;width: 50%;}#sk-container-id-2 div.sk-parallel-item:only-child::after {width: 0;}#sk-container-id-2 div.sk-dashed-wrapped {border: 1px dashed gray;margin: 0 0.4em 0.5em 0.4em;box-sizing: border-box;padding-bottom: 0.4em;background-color: white;}#sk-container-id-2 div.sk-label label {font-family: monospace;font-weight: bold;display: inline-block;line-height: 1.2em;}#sk-container-id-2 div.sk-label-container {text-align: center;}#sk-container-id-2 div.sk-container {/* jupyter's `normalize.less` sets `[hidden] { display: none; }` but bootstrap.min.css set `[hidden] { display: none !important; }` so we also need the `!important` here to be able to override the default hidden behavior on the sphinx rendered scikit-learn.org. See: https://github.com/scikit-learn/scikit-learn/issues/21755 */display: inline-block !important;position: relative;}#sk-container-id-2 div.sk-text-repr-fallback {display: none;}</style><div id=\"sk-container-id-2\" class=\"sk-top-container\"><div class=\"sk-text-repr-fallback\"><pre>GridSearchCV(cv=5, estimator=RandomForestRegressor(),\n",
       "             param_grid=[{&#x27;n_estimators&#x27;: range(10, 1300, 200)}],\n",
       "             return_train_score=True, verbose=1)</pre><b>In a Jupyter environment, please rerun this cell to show the HTML representation or trust the notebook. <br />On GitHub, the HTML representation is unable to render, please try loading this page with nbviewer.org.</b></div><div class=\"sk-container\" hidden><div class=\"sk-item sk-dashed-wrapped\"><div class=\"sk-label-container\"><div class=\"sk-label sk-toggleable\"><input class=\"sk-toggleable__control sk-hidden--visually\" id=\"sk-estimator-id-4\" type=\"checkbox\" ><label for=\"sk-estimator-id-4\" class=\"sk-toggleable__label sk-toggleable__label-arrow\">GridSearchCV</label><div class=\"sk-toggleable__content\"><pre>GridSearchCV(cv=5, estimator=RandomForestRegressor(),\n",
       "             param_grid=[{&#x27;n_estimators&#x27;: range(10, 1300, 200)}],\n",
       "             return_train_score=True, verbose=1)</pre></div></div></div><div class=\"sk-parallel\"><div class=\"sk-parallel-item\"><div class=\"sk-item\"><div class=\"sk-label-container\"><div class=\"sk-label sk-toggleable\"><input class=\"sk-toggleable__control sk-hidden--visually\" id=\"sk-estimator-id-5\" type=\"checkbox\" ><label for=\"sk-estimator-id-5\" class=\"sk-toggleable__label sk-toggleable__label-arrow\">estimator: RandomForestRegressor</label><div class=\"sk-toggleable__content\"><pre>RandomForestRegressor()</pre></div></div></div><div class=\"sk-serial\"><div class=\"sk-item\"><div class=\"sk-estimator sk-toggleable\"><input class=\"sk-toggleable__control sk-hidden--visually\" id=\"sk-estimator-id-6\" type=\"checkbox\" ><label for=\"sk-estimator-id-6\" class=\"sk-toggleable__label sk-toggleable__label-arrow\">RandomForestRegressor</label><div class=\"sk-toggleable__content\"><pre>RandomForestRegressor()</pre></div></div></div></div></div></div></div></div></div></div>"
      ],
      "text/plain": [
       "GridSearchCV(cv=5, estimator=RandomForestRegressor(),\n",
       "             param_grid=[{'n_estimators': range(10, 1300, 200)}],\n",
       "             return_train_score=True, verbose=1)"
      ]
     },
     "execution_count": 14,
     "metadata": {},
     "output_type": "execute_result"
    }
   ],
   "source": [
    " from sklearn.model_selection import GridSearchCV\n",
    "\n",
    "n_folds = 5\n",
    "\n",
    "hyper_parameters = [{'n_estimators': range(10, 1300, 200)}]\n",
    "\n",
    "rf = RandomForestRegressor()\n",
    "\n",
    "# fit tree on training data\n",
    "tunned_model_rf = GridSearchCV(\n",
    "                      estimator=rf, \n",
    "                      param_grid=hyper_parameters,\n",
    "                      cv=n_folds, \n",
    "                      return_train_score=True,\n",
    "                      verbose=1)\n",
    "\n",
    "tunned_model_rf.fit(X_train, y_train)"
   ]
  },
  {
   "cell_type": "code",
   "execution_count": 15,
   "id": "8324774e",
   "metadata": {},
   "outputs": [
    {
     "name": "stdout",
     "output_type": "stream",
     "text": [
      "Best parameters set found on train set\n",
      "{'n_estimators': 210}\n",
      "RandomForestRegressor(n_estimators=210)\n",
      "\n",
      "Score on Test Data:  0.8711519984672822\n"
     ]
    }
   ],
   "source": [
    "print(\"Best parameters set found on train set\")\n",
    "print(tunned_model_rf.best_params_)\n",
    "print(tunned_model_rf.best_estimator_)\n",
    "print()\n",
    "\n",
    "print('Score on Test Data: ', tunned_model_rf.score(X_test, y_test))"
   ]
  },
  {
   "cell_type": "code",
   "execution_count": 16,
   "id": "53d31c5a",
   "metadata": {},
   "outputs": [
    {
     "data": {
      "text/html": [
       "<div>\n",
       "<style scoped>\n",
       "    .dataframe tbody tr th:only-of-type {\n",
       "        vertical-align: middle;\n",
       "    }\n",
       "\n",
       "    .dataframe tbody tr th {\n",
       "        vertical-align: top;\n",
       "    }\n",
       "\n",
       "    .dataframe thead th {\n",
       "        text-align: right;\n",
       "    }\n",
       "</style>\n",
       "<table border=\"1\" class=\"dataframe\">\n",
       "  <thead>\n",
       "    <tr style=\"text-align: right;\">\n",
       "      <th></th>\n",
       "      <th>mean_fit_time</th>\n",
       "      <th>std_fit_time</th>\n",
       "      <th>mean_score_time</th>\n",
       "      <th>std_score_time</th>\n",
       "      <th>param_n_estimators</th>\n",
       "      <th>params</th>\n",
       "      <th>split0_test_score</th>\n",
       "      <th>split1_test_score</th>\n",
       "      <th>split2_test_score</th>\n",
       "      <th>split3_test_score</th>\n",
       "      <th>...</th>\n",
       "      <th>mean_test_score</th>\n",
       "      <th>std_test_score</th>\n",
       "      <th>rank_test_score</th>\n",
       "      <th>split0_train_score</th>\n",
       "      <th>split1_train_score</th>\n",
       "      <th>split2_train_score</th>\n",
       "      <th>split3_train_score</th>\n",
       "      <th>split4_train_score</th>\n",
       "      <th>mean_train_score</th>\n",
       "      <th>std_train_score</th>\n",
       "    </tr>\n",
       "  </thead>\n",
       "  <tbody>\n",
       "    <tr>\n",
       "      <th>0</th>\n",
       "      <td>0.015704</td>\n",
       "      <td>0.003990</td>\n",
       "      <td>0.003128</td>\n",
       "      <td>0.006256</td>\n",
       "      <td>10</td>\n",
       "      <td>{'n_estimators': 10}</td>\n",
       "      <td>0.746876</td>\n",
       "      <td>0.861991</td>\n",
       "      <td>0.808975</td>\n",
       "      <td>0.882577</td>\n",
       "      <td>...</td>\n",
       "      <td>0.830328</td>\n",
       "      <td>0.048144</td>\n",
       "      <td>6</td>\n",
       "      <td>0.944443</td>\n",
       "      <td>0.918736</td>\n",
       "      <td>0.934423</td>\n",
       "      <td>0.911370</td>\n",
       "      <td>0.918233</td>\n",
       "      <td>0.925441</td>\n",
       "      <td>0.012138</td>\n",
       "    </tr>\n",
       "    <tr>\n",
       "      <th>1</th>\n",
       "      <td>0.250858</td>\n",
       "      <td>0.017268</td>\n",
       "      <td>0.012503</td>\n",
       "      <td>0.006252</td>\n",
       "      <td>210</td>\n",
       "      <td>{'n_estimators': 210}</td>\n",
       "      <td>0.754781</td>\n",
       "      <td>0.864069</td>\n",
       "      <td>0.806039</td>\n",
       "      <td>0.876981</td>\n",
       "      <td>...</td>\n",
       "      <td>0.832511</td>\n",
       "      <td>0.045848</td>\n",
       "      <td>1</td>\n",
       "      <td>0.948720</td>\n",
       "      <td>0.922323</td>\n",
       "      <td>0.935622</td>\n",
       "      <td>0.917423</td>\n",
       "      <td>0.919709</td>\n",
       "      <td>0.928759</td>\n",
       "      <td>0.011810</td>\n",
       "    </tr>\n",
       "    <tr>\n",
       "      <th>2</th>\n",
       "      <td>0.464134</td>\n",
       "      <td>0.012090</td>\n",
       "      <td>0.028331</td>\n",
       "      <td>0.006364</td>\n",
       "      <td>410</td>\n",
       "      <td>{'n_estimators': 410}</td>\n",
       "      <td>0.755318</td>\n",
       "      <td>0.863349</td>\n",
       "      <td>0.801747</td>\n",
       "      <td>0.873900</td>\n",
       "      <td>...</td>\n",
       "      <td>0.830277</td>\n",
       "      <td>0.045050</td>\n",
       "      <td>7</td>\n",
       "      <td>0.948591</td>\n",
       "      <td>0.923856</td>\n",
       "      <td>0.935934</td>\n",
       "      <td>0.917341</td>\n",
       "      <td>0.920305</td>\n",
       "      <td>0.929205</td>\n",
       "      <td>0.011573</td>\n",
       "    </tr>\n",
       "    <tr>\n",
       "      <th>3</th>\n",
       "      <td>0.713059</td>\n",
       "      <td>0.041047</td>\n",
       "      <td>0.032891</td>\n",
       "      <td>0.007526</td>\n",
       "      <td>610</td>\n",
       "      <td>{'n_estimators': 610}</td>\n",
       "      <td>0.758340</td>\n",
       "      <td>0.861667</td>\n",
       "      <td>0.807026</td>\n",
       "      <td>0.874474</td>\n",
       "      <td>...</td>\n",
       "      <td>0.832456</td>\n",
       "      <td>0.043727</td>\n",
       "      <td>3</td>\n",
       "      <td>0.947929</td>\n",
       "      <td>0.923512</td>\n",
       "      <td>0.935231</td>\n",
       "      <td>0.917621</td>\n",
       "      <td>0.919920</td>\n",
       "      <td>0.928843</td>\n",
       "      <td>0.011305</td>\n",
       "    </tr>\n",
       "    <tr>\n",
       "      <th>4</th>\n",
       "      <td>0.935203</td>\n",
       "      <td>0.044871</td>\n",
       "      <td>0.053363</td>\n",
       "      <td>0.007644</td>\n",
       "      <td>810</td>\n",
       "      <td>{'n_estimators': 810}</td>\n",
       "      <td>0.760424</td>\n",
       "      <td>0.860669</td>\n",
       "      <td>0.804895</td>\n",
       "      <td>0.872939</td>\n",
       "      <td>...</td>\n",
       "      <td>0.831913</td>\n",
       "      <td>0.042839</td>\n",
       "      <td>4</td>\n",
       "      <td>0.947746</td>\n",
       "      <td>0.923641</td>\n",
       "      <td>0.935700</td>\n",
       "      <td>0.917522</td>\n",
       "      <td>0.919713</td>\n",
       "      <td>0.928864</td>\n",
       "      <td>0.011339</td>\n",
       "    </tr>\n",
       "  </tbody>\n",
       "</table>\n",
       "<p>5 rows × 21 columns</p>\n",
       "</div>"
      ],
      "text/plain": [
       "   mean_fit_time  std_fit_time  mean_score_time  std_score_time  \\\n",
       "0       0.015704      0.003990         0.003128        0.006256   \n",
       "1       0.250858      0.017268         0.012503        0.006252   \n",
       "2       0.464134      0.012090         0.028331        0.006364   \n",
       "3       0.713059      0.041047         0.032891        0.007526   \n",
       "4       0.935203      0.044871         0.053363        0.007644   \n",
       "\n",
       "  param_n_estimators                 params  split0_test_score  \\\n",
       "0                 10   {'n_estimators': 10}           0.746876   \n",
       "1                210  {'n_estimators': 210}           0.754781   \n",
       "2                410  {'n_estimators': 410}           0.755318   \n",
       "3                610  {'n_estimators': 610}           0.758340   \n",
       "4                810  {'n_estimators': 810}           0.760424   \n",
       "\n",
       "   split1_test_score  split2_test_score  split3_test_score  ...  \\\n",
       "0           0.861991           0.808975           0.882577  ...   \n",
       "1           0.864069           0.806039           0.876981  ...   \n",
       "2           0.863349           0.801747           0.873900  ...   \n",
       "3           0.861667           0.807026           0.874474  ...   \n",
       "4           0.860669           0.804895           0.872939  ...   \n",
       "\n",
       "   mean_test_score  std_test_score  rank_test_score  split0_train_score  \\\n",
       "0         0.830328        0.048144                6            0.944443   \n",
       "1         0.832511        0.045848                1            0.948720   \n",
       "2         0.830277        0.045050                7            0.948591   \n",
       "3         0.832456        0.043727                3            0.947929   \n",
       "4         0.831913        0.042839                4            0.947746   \n",
       "\n",
       "   split1_train_score  split2_train_score  split3_train_score  \\\n",
       "0            0.918736            0.934423            0.911370   \n",
       "1            0.922323            0.935622            0.917423   \n",
       "2            0.923856            0.935934            0.917341   \n",
       "3            0.923512            0.935231            0.917621   \n",
       "4            0.923641            0.935700            0.917522   \n",
       "\n",
       "   split4_train_score  mean_train_score  std_train_score  \n",
       "0            0.918233          0.925441         0.012138  \n",
       "1            0.919709          0.928759         0.011810  \n",
       "2            0.920305          0.929205         0.011573  \n",
       "3            0.919920          0.928843         0.011305  \n",
       "4            0.919713          0.928864         0.011339  \n",
       "\n",
       "[5 rows x 21 columns]"
      ]
     },
     "execution_count": 16,
     "metadata": {},
     "output_type": "execute_result"
    }
   ],
   "source": [
    "cv_results = pd.DataFrame(tunned_model_rf.cv_results_)\n",
    "\n",
    "cv_results.head()"
   ]
  },
  {
   "cell_type": "code",
   "execution_count": 17,
   "id": "8f4a7ff8",
   "metadata": {},
   "outputs": [
    {
     "data": {
      "text/plain": [
       "<matplotlib.legend.Legend at 0x18c456957c0>"
      ]
     },
     "execution_count": 17,
     "metadata": {},
     "output_type": "execute_result"
    },
    {
     "data": {
      "image/png": "[encoded data removed]",
      "text/plain": [
       "<Figure size 432x288 with 1 Axes>"
      ]
     },
     "metadata": {
      "needs_background": "light"
     },
     "output_type": "display_data"
    }
   ],
   "source": [
    "plt.plot(cv_results['param_n_estimators'], cv_results['mean_train_score'])\n",
    "plt.plot(cv_results['param_n_estimators'], cv_results['mean_test_score'])\n",
    "plt.xlabel('n_estimators')\n",
    "plt.ylabel('Accuracy')\n",
    "plt.legend(['train accuracy', 'test accuracy'], loc='upper left')"
   ]
  },
  {
   "cell_type": "code",
   "execution_count": 18,
   "id": "e77b88b3",
   "metadata": {},
   "outputs": [
    {
     "data": {
      "text/html": [
       "<style>#sk-container-id-3 {color: black;background-color: white;}#sk-container-id-3 pre{padding: 0;}#sk-container-id-3 div.sk-toggleable {background-color: white;}#sk-container-id-3 label.sk-toggleable__label {cursor: pointer;display: block;width: 100%;margin-bottom: 0;padding: 0.3em;box-sizing: border-box;text-align: center;}#sk-container-id-3 label.sk-toggleable__label-arrow:before {content: \"▸\";float: left;margin-right: 0.25em;color: #696969;}#sk-container-id-3 label.sk-toggleable__label-arrow:hover:before {color: black;}#sk-container-id-3 div.sk-estimator:hover label.sk-toggleable__label-arrow:before {color: black;}#sk-container-id-3 div.sk-toggleable__content {max-height: 0;max-width: 0;overflow: hidden;text-align: left;background-color: #f0f8ff;}#sk-container-id-3 div.sk-toggleable__content pre {margin: 0.2em;color: black;border-radius: 0.25em;background-color: #f0f8ff;}#sk-container-id-3 input.sk-toggleable__control:checked~div.sk-toggleable__content {max-height: 200px;max-width: 100%;overflow: auto;}#sk-container-id-3 input.sk-toggleable__control:checked~label.sk-toggleable__label-arrow:before {content: \"▾\";}#sk-container-id-3 div.sk-estimator input.sk-toggleable__control:checked~label.sk-toggleable__label {background-color: #d4ebff;}#sk-container-id-3 div.sk-label input.sk-toggleable__control:checked~label.sk-toggleable__label {background-color: #d4ebff;}#sk-container-id-3 input.sk-hidden--visually {border: 0;clip: rect(1px 1px 1px 1px);clip: rect(1px, 1px, 1px, 1px);height: 1px;margin: -1px;overflow: hidden;padding: 0;position: absolute;width: 1px;}#sk-container-id-3 div.sk-estimator {font-family: monospace;background-color: #f0f8ff;border: 1px dotted black;border-radius: 0.25em;box-sizing: border-box;margin-bottom: 0.5em;}#sk-container-id-3 div.sk-estimator:hover {background-color: #d4ebff;}#sk-container-id-3 div.sk-parallel-item::after {content: \"\";width: 100%;border-bottom: 1px solid gray;flex-grow: 1;}#sk-container-id-3 div.sk-label:hover label.sk-toggleable__label {background-color: #d4ebff;}#sk-container-id-3 div.sk-serial::before {content: \"\";position: absolute;border-left: 1px solid gray;box-sizing: border-box;top: 0;bottom: 0;left: 50%;z-index: 0;}#sk-container-id-3 div.sk-serial {display: flex;flex-direction: column;align-items: center;background-color: white;padding-right: 0.2em;padding-left: 0.2em;position: relative;}#sk-container-id-3 div.sk-item {position: relative;z-index: 1;}#sk-container-id-3 div.sk-parallel {display: flex;align-items: stretch;justify-content: center;background-color: white;position: relative;}#sk-container-id-3 div.sk-item::before, #sk-container-id-3 div.sk-parallel-item::before {content: \"\";position: absolute;border-left: 1px solid gray;box-sizing: border-box;top: 0;bottom: 0;left: 50%;z-index: -1;}#sk-container-id-3 div.sk-parallel-item {display: flex;flex-direction: column;z-index: 1;position: relative;background-color: white;}#sk-container-id-3 div.sk-parallel-item:first-child::after {align-self: flex-end;width: 50%;}#sk-container-id-3 div.sk-parallel-item:last-child::after {align-self: flex-start;width: 50%;}#sk-container-id-3 div.sk-parallel-item:only-child::after {width: 0;}#sk-container-id-3 div.sk-dashed-wrapped {border: 1px dashed gray;margin: 0 0.4em 0.5em 0.4em;box-sizing: border-box;padding-bottom: 0.4em;background-color: white;}#sk-container-id-3 div.sk-label label {font-family: monospace;font-weight: bold;display: inline-block;line-height: 1.2em;}#sk-container-id-3 div.sk-label-container {text-align: center;}#sk-container-id-3 div.sk-container {/* jupyter's `normalize.less` sets `[hidden] { display: none; }` but bootstrap.min.css set `[hidden] { display: none !important; }` so we also need the `!important` here to be able to override the default hidden behavior on the sphinx rendered scikit-learn.org. See: https://github.com/scikit-learn/scikit-learn/issues/21755 */display: inline-block !important;position: relative;}#sk-container-id-3 div.sk-text-repr-fallback {display: none;}</style><div id=\"sk-container-id-3\" class=\"sk-top-container\"><div class=\"sk-text-repr-fallback\"><pre>RandomForestRegressor(max_depth=10, n_estimators=200)</pre><b>In a Jupyter environment, please rerun this cell to show the HTML representation or trust the notebook. <br />On GitHub, the HTML representation is unable to render, please try loading this page with nbviewer.org.</b></div><div class=\"sk-container\" hidden><div class=\"sk-item\"><div class=\"sk-estimator sk-toggleable\"><input class=\"sk-toggleable__control sk-hidden--visually\" id=\"sk-estimator-id-7\" type=\"checkbox\" checked><label for=\"sk-estimator-id-7\" class=\"sk-toggleable__label sk-toggleable__label-arrow\">RandomForestRegressor</label><div class=\"sk-toggleable__content\"><pre>RandomForestRegressor(max_depth=10, n_estimators=200)</pre></div></div></div></div></div>"
      ],
      "text/plain": [
       "RandomForestRegressor(max_depth=10, n_estimators=200)"
      ]
     },
     "execution_count": 18,
     "metadata": {},
     "output_type": "execute_result"
    }
   ],
   "source": [
    "from sklearn.ensemble import RandomForestRegressor\n",
    "\n",
    "model_rf = RandomForestRegressor(max_depth=10,\n",
    "                                  n_estimators=200)\n",
    "\n",
    "model_rf.fit(X_train, y_train)"
   ]
  },
  {
   "cell_type": "markdown",
   "id": "5d89496d",
   "metadata": {},
   "source": [
    "Feature Importance with RandomForest"
   ]
  },
  {
   "cell_type": "code",
   "execution_count": 19,
   "id": "006c006a",
   "metadata": {},
   "outputs": [
    {
     "data": {
      "text/plain": [
       "array([0.12414944, 0.6388303 , 0.18153189, 0.05548837])"
      ]
     },
     "execution_count": 19,
     "metadata": {},
     "output_type": "execute_result"
    }
   ],
   "source": [
    "model_rf.feature_importances_"
   ]
  },
  {
   "cell_type": "code",
   "execution_count": 20,
   "id": "245a9012",
   "metadata": {},
   "outputs": [
    {
     "data": {
      "image/png": "[encoded data removed]",
      "text/plain": [
       "<Figure size 1080x504 with 1 Axes>"
      ]
     },
     "metadata": {
      "needs_background": "light"
     },
     "output_type": "display_data"
    }
   ],
   "source": [
    "plt.figure(figsize=(15,7))\n",
    "sns.barplot(x = model_rf.feature_importances_, y = X_train.columns, )\n",
    "plt.show();"
   ]
  },
  {
   "cell_type": "markdown",
   "id": "191139d2",
   "metadata": {},
   "source": [
    "**AdaBoostRegressor**"
   ]
  },
  {
   "cell_type": "code",
   "execution_count": 38,
   "id": "e7fcd895",
   "metadata": {},
   "outputs": [
    {
     "data": {
      "text/html": [
       "<style>#sk-container-id-8 {color: black;background-color: white;}#sk-container-id-8 pre{padding: 0;}#sk-container-id-8 div.sk-toggleable {background-color: white;}#sk-container-id-8 label.sk-toggleable__label {cursor: pointer;display: block;width: 100%;margin-bottom: 0;padding: 0.3em;box-sizing: border-box;text-align: center;}#sk-container-id-8 label.sk-toggleable__label-arrow:before {content: \"▸\";float: left;margin-right: 0.25em;color: #696969;}#sk-container-id-8 label.sk-toggleable__label-arrow:hover:before {color: black;}#sk-container-id-8 div.sk-estimator:hover label.sk-toggleable__label-arrow:before {color: black;}#sk-container-id-8 div.sk-toggleable__content {max-height: 0;max-width: 0;overflow: hidden;text-align: left;background-color: #f0f8ff;}#sk-container-id-8 div.sk-toggleable__content pre {margin: 0.2em;color: black;border-radius: 0.25em;background-color: #f0f8ff;}#sk-container-id-8 input.sk-toggleable__control:checked~div.sk-toggleable__content {max-height: 200px;max-width: 100%;overflow: auto;}#sk-container-id-8 input.sk-toggleable__control:checked~label.sk-toggleable__label-arrow:before {content: \"▾\";}#sk-container-id-8 div.sk-estimator input.sk-toggleable__control:checked~label.sk-toggleable__label {background-color: #d4ebff;}#sk-container-id-8 div.sk-label input.sk-toggleable__control:checked~label.sk-toggleable__label {background-color: #d4ebff;}#sk-container-id-8 input.sk-hidden--visually {border: 0;clip: rect(1px 1px 1px 1px);clip: rect(1px, 1px, 1px, 1px);height: 1px;margin: -1px;overflow: hidden;padding: 0;position: absolute;width: 1px;}#sk-container-id-8 div.sk-estimator {font-family: monospace;background-color: #f0f8ff;border: 1px dotted black;border-radius: 0.25em;box-sizing: border-box;margin-bottom: 0.5em;}#sk-container-id-8 div.sk-estimator:hover {background-color: #d4ebff;}#sk-container-id-8 div.sk-parallel-item::after {content: \"\";width: 100%;border-bottom: 1px solid gray;flex-grow: 1;}#sk-container-id-8 div.sk-label:hover label.sk-toggleable__label {background-color: #d4ebff;}#sk-container-id-8 div.sk-serial::before {content: \"\";position: absolute;border-left: 1px solid gray;box-sizing: border-box;top: 0;bottom: 0;left: 50%;z-index: 0;}#sk-container-id-8 div.sk-serial {display: flex;flex-direction: column;align-items: center;background-color: white;padding-right: 0.2em;padding-left: 0.2em;position: relative;}#sk-container-id-8 div.sk-item {position: relative;z-index: 1;}#sk-container-id-8 div.sk-parallel {display: flex;align-items: stretch;justify-content: center;background-color: white;position: relative;}#sk-container-id-8 div.sk-item::before, #sk-container-id-8 div.sk-parallel-item::before {content: \"\";position: absolute;border-left: 1px solid gray;box-sizing: border-box;top: 0;bottom: 0;left: 50%;z-index: -1;}#sk-container-id-8 div.sk-parallel-item {display: flex;flex-direction: column;z-index: 1;position: relative;background-color: white;}#sk-container-id-8 div.sk-parallel-item:first-child::after {align-self: flex-end;width: 50%;}#sk-container-id-8 div.sk-parallel-item:last-child::after {align-self: flex-start;width: 50%;}#sk-container-id-8 div.sk-parallel-item:only-child::after {width: 0;}#sk-container-id-8 div.sk-dashed-wrapped {border: 1px dashed gray;margin: 0 0.4em 0.5em 0.4em;box-sizing: border-box;padding-bottom: 0.4em;background-color: white;}#sk-container-id-8 div.sk-label label {font-family: monospace;font-weight: bold;display: inline-block;line-height: 1.2em;}#sk-container-id-8 div.sk-label-container {text-align: center;}#sk-container-id-8 div.sk-container {/* jupyter's `normalize.less` sets `[hidden] { display: none; }` but bootstrap.min.css set `[hidden] { display: none !important; }` so we also need the `!important` here to be able to override the default hidden behavior on the sphinx rendered scikit-learn.org. See: https://github.com/scikit-learn/scikit-learn/issues/21755 */display: inline-block !important;position: relative;}#sk-container-id-8 div.sk-text-repr-fallback {display: none;}</style><div id=\"sk-container-id-8\" class=\"sk-top-container\"><div class=\"sk-text-repr-fallback\"><pre>AdaBoostRegressor(base_estimator=DecisionTreeRegressor(max_depth=4),\n",
       "                  n_estimators=100)</pre><b>In a Jupyter environment, please rerun this cell to show the HTML representation or trust the notebook. <br />On GitHub, the HTML representation is unable to render, please try loading this page with nbviewer.org.</b></div><div class=\"sk-container\" hidden><div class=\"sk-item sk-dashed-wrapped\"><div class=\"sk-label-container\"><div class=\"sk-label sk-toggleable\"><input class=\"sk-toggleable__control sk-hidden--visually\" id=\"sk-estimator-id-18\" type=\"checkbox\" ><label for=\"sk-estimator-id-18\" class=\"sk-toggleable__label sk-toggleable__label-arrow\">AdaBoostRegressor</label><div class=\"sk-toggleable__content\"><pre>AdaBoostRegressor(base_estimator=DecisionTreeRegressor(max_depth=4),\n",
       "                  n_estimators=100)</pre></div></div></div><div class=\"sk-parallel\"><div class=\"sk-parallel-item\"><div class=\"sk-item\"><div class=\"sk-label-container\"><div class=\"sk-label sk-toggleable\"><input class=\"sk-toggleable__control sk-hidden--visually\" id=\"sk-estimator-id-19\" type=\"checkbox\" ><label for=\"sk-estimator-id-19\" class=\"sk-toggleable__label sk-toggleable__label-arrow\">base_estimator: DecisionTreeRegressor</label><div class=\"sk-toggleable__content\"><pre>DecisionTreeRegressor(max_depth=4)</pre></div></div></div><div class=\"sk-serial\"><div class=\"sk-item\"><div class=\"sk-estimator sk-toggleable\"><input class=\"sk-toggleable__control sk-hidden--visually\" id=\"sk-estimator-id-20\" type=\"checkbox\" ><label for=\"sk-estimator-id-20\" class=\"sk-toggleable__label sk-toggleable__label-arrow\">DecisionTreeRegressor</label><div class=\"sk-toggleable__content\"><pre>DecisionTreeRegressor(max_depth=4)</pre></div></div></div></div></div></div></div></div></div></div>"
      ],
      "text/plain": [
       "AdaBoostRegressor(base_estimator=DecisionTreeRegressor(max_depth=4),\n",
       "                  n_estimators=100)"
      ]
     },
     "execution_count": 38,
     "metadata": {},
     "output_type": "execute_result"
    }
   ],
   "source": [
    "from sklearn.ensemble import AdaBoostRegressor\n",
    "from sklearn.tree import DecisionTreeRegressor\n",
    "regDT = DecisionTreeRegressor(max_depth=4)\n",
    "\n",
    "adaregr = AdaBoostRegressor(base_estimator=regDT, n_estimators=100)\n",
    "adaregr.fit(X_train, y_train)\n",
    "\n"
   ]
  },
  {
   "cell_type": "code",
   "execution_count": 39,
   "id": "ae873baa",
   "metadata": {},
   "outputs": [
    {
     "data": {
      "text/plain": [
       "array([ 52987.12195122, 171822.75886525,  50465.78313253, 171822.75886525,\n",
       "       171822.75886525, 158380.625     ,  95999.29310345,  41395.16996047,\n",
       "        41395.16996047,  47849.85534591,  52987.12195122, 168247.43589744,\n",
       "        41395.16996047,  81013.01234568,  41395.16996047,  52987.12195122,\n",
       "       171822.75886525, 101013.25581395,  41395.16996047, 171822.75886525,\n",
       "        41395.16996047,  41395.16996047, 158380.625     ,  41395.16996047,\n",
       "       158380.625     ,  52987.12195122,  41395.16996047,  52987.12195122,\n",
       "       319721.66666667,  41395.16996047,  41395.16996047,  41395.16996047,\n",
       "        41395.16996047,  41395.16996047, 101013.25581395,  41395.16996047,\n",
       "        50465.78313253,  41395.16996047,  41395.16996047,  41395.16996047,\n",
       "        95999.29310345,  81013.01234568, 101013.25581395, 101013.25581395,\n",
       "        41395.16996047,  41395.16996047,  41395.16996047,  41395.16996047,\n",
       "       171822.75886525,  41395.16996047,  95999.29310345,  95999.29310345,\n",
       "       101013.25581395,  52987.12195122,  50465.78313253,  95999.29310345,\n",
       "        52987.12195122, 120132.85714286,  41395.16996047,  52987.12195122,\n",
       "        41395.16996047,  52987.12195122,  41395.16996047,  41395.16996047,\n",
       "        41395.16996047,  95999.29310345, 101013.25581395,  50465.78313253,\n",
       "       158380.625     ,  41395.16996047,  41395.16996047,  41395.16996047,\n",
       "        41395.16996047, 101013.25581395,  41395.16996047,  95999.29310345,\n",
       "        52987.12195122,  41395.16996047, 158380.625     ,  41395.16996047,\n",
       "        41395.16996047, 168247.43589744,  41395.16996047,  41395.16996047,\n",
       "       168247.43589744,  50465.78313253,  50465.78313253,  95999.29310345,\n",
       "       171822.75886525,  95999.29310345,  95999.29310345,  50465.78313253,\n",
       "        52987.12195122,  50465.78313253,  50465.78313253,  41395.16996047,\n",
       "        50465.78313253,  50465.78313253,  50465.78313253, 171822.75886525,\n",
       "        50465.78313253,  50465.78313253, 171822.75886525, 171822.75886525,\n",
       "       158380.625     , 158380.625     ,  41395.16996047, 168247.43589744,\n",
       "       101013.25581395,  52987.12195122, 171822.75886525, 120132.85714286,\n",
       "        52987.12195122,  95999.29310345, 168247.43589744,  41395.16996047,\n",
       "        50465.78313253, 171822.75886525,  52987.12195122,  95999.29310345,\n",
       "        52987.12195122,  95999.29310345, 158380.625     ,  41395.16996047,\n",
       "       103115.        , 120132.85714286,  41395.16996047,  41395.16996047,\n",
       "        95999.29310345,  41395.16996047,  47849.85534591,  41395.16996047,\n",
       "        50465.78313253,  50465.78313253,  47849.85534591,  47849.85534591,\n",
       "        81890.        ,  41395.16996047,  50465.78313253,  41395.16996047,\n",
       "        41395.16996047,  50465.78313253,  41395.16996047,  81013.01234568,\n",
       "        41395.16996047, 271990.        ,  95999.29310345,  81013.01234568,\n",
       "       171822.75886525,  41395.16996047, 168247.43589744, 281990.        ,\n",
       "       171822.75886525,  26490.        ,  52987.12195122,  41395.16996047,\n",
       "       101013.25581395, 103115.        ,  41395.16996047,  41395.16996047,\n",
       "        50465.78313253,  41395.16996047, 168247.43589744,  41395.16996047,\n",
       "       158380.625     ,  52987.12195122,  41395.16996047,  41395.16996047,\n",
       "        41395.16996047,  26490.        ,  41395.16996047,  41395.16996047,\n",
       "        41395.16996047, 101013.25581395,  50465.78313253,  52987.12195122,\n",
       "        81013.01234568,  50465.78313253,  41395.16996047,  41395.16996047,\n",
       "        41395.16996047,  95999.29310345,  95999.29310345,  41395.16996047,\n",
       "       158380.625     ,  52987.12195122,  41395.16996047,  41395.16996047,\n",
       "       103115.        ,  95999.29310345,  50465.78313253,  52987.12195122,\n",
       "        52987.12195122,  47849.85534591,  50465.78313253,  95999.29310345,\n",
       "       301704.28571429,  81013.01234568,  41395.16996047,  41395.16996047,\n",
       "        81013.01234568,  41395.16996047,  52987.12195122, 158380.625     ,\n",
       "       120132.85714286,  50465.78313253, 161145.17241379,  52987.12195122,\n",
       "        41395.16996047,  52987.12195122, 158380.625     ,  52987.12195122,\n",
       "       154402.06666667, 101013.25581395,  50465.78313253,  50465.78313253,\n",
       "       171822.75886525, 101013.25581395,  41395.16996047,  50465.78313253,\n",
       "        41395.16996047, 171822.75886525,  52987.12195122, 171822.75886525,\n",
       "        52987.12195122,  41395.16996047,  95999.29310345,  50465.78313253,\n",
       "        50465.78313253,  23370.        , 171822.75886525,  50465.78313253,\n",
       "        52987.12195122, 158380.625     , 171822.75886525,  95999.29310345,\n",
       "       103115.        , 103115.        ,  41395.16996047,  50465.78313253,\n",
       "        50465.78313253, 133204.22302158,  52987.12195122, 168247.43589744,\n",
       "        50465.78313253,  95999.29310345, 101013.25581395,  41395.16996047,\n",
       "        41395.16996047,  41395.16996047,  41395.16996047,  81013.01234568,\n",
       "        41395.16996047,  41395.16996047,  41395.16996047,  41395.16996047,\n",
       "        95999.29310345,  52987.12195122,  50465.78313253, 111204.28571429,\n",
       "        41395.16996047,  52987.12195122, 301704.28571429,  50465.78313253,\n",
       "        95999.29310345,  41395.16996047,  41395.16996047,  95999.29310345,\n",
       "        50465.78313253,  41395.16996047, 101013.25581395,  50465.78313253,\n",
       "        52987.12195122,  41395.16996047,  41395.16996047,  41395.16996047,\n",
       "       171822.75886525,  41395.16996047, 168247.43589744,  41395.16996047,\n",
       "        41395.16996047, 171822.75886525,  41395.16996047, 171822.75886525,\n",
       "        41395.16996047,  41395.16996047, 101013.25581395,  41395.16996047,\n",
       "        52987.12195122,  41395.16996047,  41395.16996047, 158380.625     ,\n",
       "        41395.16996047,  81013.01234568,  41395.16996047,  81013.01234568,\n",
       "        41395.16996047,  41395.16996047,  41395.16996047,  41395.16996047,\n",
       "        95999.29310345,  50465.78313253, 171822.75886525,  52987.12195122,\n",
       "       319721.66666667,  81013.01234568,  95999.29310345, 168247.43589744,\n",
       "        50465.78313253,  95999.29310345,  47849.85534591,  41395.16996047,\n",
       "        95999.29310345,  41395.16996047, 171822.75886525, 168247.43589744,\n",
       "        23370.        , 284979.47368421,  95999.29310345,  41395.16996047,\n",
       "        41395.16996047,  52987.12195122,  95999.29310345,  52987.12195122,\n",
       "       171822.75886525, 158380.625     ,  95999.29310345,  50465.78313253,\n",
       "        52987.12195122,  50465.78313253, 303270.        ,  41395.16996047,\n",
       "       158380.625     ,  81013.01234568,  41395.16996047, 171822.75886525,\n",
       "       171822.75886525, 101013.25581395,  52987.12195122,  50465.78313253,\n",
       "       158380.625     , 171822.75886525,  23370.        ,  50465.78313253,\n",
       "        95999.29310345,  50465.78313253, 171822.75886525,  41395.16996047,\n",
       "       171822.75886525,  41395.16996047,  52987.12195122,  41395.16996047,\n",
       "        52987.12195122,  52987.12195122,  50465.78313253,  41395.16996047,\n",
       "        95999.29310345,  41395.16996047, 158380.625     ,  41395.16996047,\n",
       "        41395.16996047,  41395.16996047, 158380.625     ,  41395.16996047,\n",
       "        41395.16996047,  52987.12195122, 171822.75886525, 301704.28571429,\n",
       "       101013.25581395,  52987.12195122,  50465.78313253,  41395.16996047,\n",
       "        50465.78313253,  95999.29310345,  41395.16996047, 101013.25581395,\n",
       "        52987.12195122,  81013.01234568, 101013.25581395,  52987.12195122,\n",
       "        52987.12195122,  41395.16996047,  41395.16996047,  41395.16996047,\n",
       "       133204.22302158,  41395.16996047,  52987.12195122,  52987.12195122,\n",
       "       111204.28571429,  50465.78313253,  41395.16996047, 171822.75886525,\n",
       "       158380.625     , 168247.43589744,  41395.16996047,  41395.16996047,\n",
       "       101013.25581395,  81013.01234568, 171822.75886525,  50465.78313253,\n",
       "       101013.25581395, 101013.25581395,  41395.16996047,  41395.16996047,\n",
       "        50465.78313253, 171822.75886525,  41395.16996047,  52987.12195122,\n",
       "        41395.16996047,  41395.16996047, 171822.75886525, 101013.25581395,\n",
       "        95999.29310345,  50465.78313253, 120132.85714286, 281990.        ,\n",
       "        52987.12195122,  95999.29310345,  50465.78313253,  47849.85534591,\n",
       "       101013.25581395,  95999.29310345,  41395.16996047,  41395.16996047,\n",
       "        95999.29310345, 133204.22302158, 339190.        ,  41395.16996047,\n",
       "        95999.29310345,  52987.12195122,  41395.16996047, 171822.75886525,\n",
       "       171822.75886525, 171822.75886525, 171822.75886525,  41395.16996047,\n",
       "       171822.75886525, 120132.85714286,  41395.16996047,  41395.16996047,\n",
       "       101013.25581395,  50465.78313253, 168247.43589744,  95999.29310345,\n",
       "       101013.25581395,  41395.16996047,  95999.29310345,  41395.16996047,\n",
       "       171822.75886525,  41395.16996047,  41395.16996047,  81013.01234568,\n",
       "        95999.29310345, 101013.25581395,  41395.16996047, 171822.75886525,\n",
       "       101013.25581395,  41395.16996047,  50465.78313253,  41395.16996047,\n",
       "       171822.75886525, 171822.75886525,  41395.16996047,  41395.16996047,\n",
       "        41395.16996047,  41395.16996047, 168247.43589744, 171822.75886525,\n",
       "        41395.16996047,  81013.01234568, 207615.        ,  41395.16996047,\n",
       "        81013.01234568,  41395.16996047,  52987.12195122, 103115.        ,\n",
       "       158380.625     ,  95999.29310345,  41395.16996047,  41395.16996047,\n",
       "        50465.78313253,  41395.16996047,  41395.16996047, 158380.625     ,\n",
       "       171822.75886525,  95999.29310345,  50465.78313253,  41395.16996047,\n",
       "        41395.16996047,  95999.29310345, 158380.625     ,  41395.16996047,\n",
       "        41395.16996047,  41395.16996047, 158380.625     ,  47849.85534591,\n",
       "        52987.12195122, 161145.17241379,  41395.16996047,  47849.85534591,\n",
       "        41395.16996047, 101013.25581395,  41395.16996047,  41395.16996047,\n",
       "       101013.25581395,  41395.16996047,  97138.64864865,  81013.01234568,\n",
       "        81013.01234568,  81013.01234568, 301704.28571429, 101013.25581395,\n",
       "        95999.29310345,  52987.12195122, 101013.25581395,  52987.12195122,\n",
       "       101013.25581395,  41395.16996047,  41395.16996047,  41395.16996047,\n",
       "        41395.16996047,  41395.16996047,  41395.16996047,  95999.29310345,\n",
       "       158380.625     ,  41395.16996047,  50465.78313253,  52987.12195122,\n",
       "        47849.85534591, 171822.75886525,  52987.12195122,  41395.16996047,\n",
       "        52987.12195122,  95999.29310345,  41395.16996047,  52987.12195122,\n",
       "       171822.75886525,  41395.16996047, 171822.75886525,  50465.78313253,\n",
       "       152516.82312925,  23370.        ,  50465.78313253,  50465.78313253,\n",
       "        52987.12195122,  95999.29310345,  41395.16996047, 120132.85714286,\n",
       "       171822.75886525,  41395.16996047,  41395.16996047, 171822.75886525,\n",
       "       171822.75886525,  41395.16996047, 101013.25581395,  41395.16996047,\n",
       "        41395.16996047,  52987.12195122, 158380.625     ,  50465.78313253,\n",
       "       171822.75886525, 171822.75886525,  95999.29310345,  52987.12195122,\n",
       "        41395.16996047,  81013.01234568, 171822.75886525, 158380.625     ,\n",
       "       158380.625     ,  81013.01234568,  52987.12195122, 101013.25581395,\n",
       "        41395.16996047,  95999.29310345,  23370.        ,  41395.16996047])"
      ]
     },
     "execution_count": 39,
     "metadata": {},
     "output_type": "execute_result"
    }
   ],
   "source": [
    "# Predict using the Adaboost Regressor\n",
    "y_pred = adaregr.predict(X_train)\n",
    "y_pred"
   ]
  },
  {
   "cell_type": "markdown",
   "id": "79cf48c0",
   "metadata": {},
   "source": [
    " GridSearchCV"
   ]
  },
  {
   "cell_type": "code",
   "execution_count": 40,
   "id": "824243bd",
   "metadata": {},
   "outputs": [
    {
     "name": "stdout",
     "output_type": "stream",
     "text": [
      "Best parameters:  {'learning_rate': 0.1, 'n_estimators': 200}\n",
      "Best score:  0.7817641534374766\n"
     ]
    }
   ],
   "source": [
    "from sklearn.ensemble import AdaBoostRegressor\n",
    "from sklearn.tree import DecisionTreeRegressor\n",
    "from sklearn.model_selection import GridSearchCV\n",
    "\n",
    "regr = DecisionTreeRegressor(max_depth=4)\n",
    "\n",
    "# Initialize the Adaboost Regressor\n",
    "adaregr = AdaBoostRegressor(base_estimator=regr)\n",
    "\n",
    "# Define the hyperparameter grid to search\n",
    "param_grid = {'n_estimators': [50, 100, 200],\n",
    "              'learning_rate': [0.1, 0.5, 1]}\n",
    "\n",
    "# Initialize the GridSearchCV object\n",
    "grid_search = GridSearchCV(adaregr, param_grid, cv=5)\n",
    "\n",
    "# Fit the GridSearchCV object to the data\n",
    "grid_search.fit(X_train, y_train)\n",
    "\n",
    "# Print the best parameters and score\n",
    "print(\"Best parameters: \", grid_search.best_params_)\n",
    "print(\"Best score: \", grid_search.best_score_)"
   ]
  },
  {
   "cell_type": "markdown",
   "id": "88d90af7",
   "metadata": {},
   "source": [
    "**GBDT**"
   ]
  },
  {
   "cell_type": "code",
   "execution_count": 7,
   "id": "ad195417",
   "metadata": {},
   "outputs": [],
   "source": [
    "from sklearn.model_selection import train_test_split, GridSearchCV\n",
    "from sklearn.ensemble import GradientBoostingRegressor\n",
    "from sklearn.metrics import mean_squared_error"
   ]
  },
  {
   "cell_type": "code",
   "execution_count": 8,
   "id": "c32d5b09",
   "metadata": {},
   "outputs": [
    {
     "name": "stdout",
     "output_type": "stream",
     "text": [
      "Best hyperparameters: {'learning_rate': 0.05, 'max_depth': 3, 'n_estimators': 100}\n",
      "Best score: 24298.08884516577\n"
     ]
    }
   ],
   "source": [
    "gbdt=GradientBoostingRegressor()\n",
    "param_grid = {\n",
    "    'n_estimators': [100, 200, 300],\n",
    "    'max_depth': [3, 5, 7],\n",
    "    'learning_rate': [0.1, 0.05, 0.01]\n",
    "}\n",
    "\n",
    "# Perform grid search cross-validation to find the best hyperparameters\n",
    "grid_search = GridSearchCV(gbdt, param_grid, cv=5, scoring='neg_mean_squared_error', n_jobs=-1)\n",
    "grid_search.fit(X_train, y_train)\n",
    "\n",
    "# Print the best hyperparameters and the best score\n",
    "print(\"Best hyperparameters:\", grid_search.best_params_)\n",
    "print(\"Best score:\", np.sqrt(-grid_search.best_score_))"
   ]
  },
  {
   "cell_type": "code",
   "execution_count": 9,
   "id": "a0fb910a",
   "metadata": {},
   "outputs": [
    {
     "name": "stdout",
     "output_type": "stream",
     "text": [
      "RMSE: 25059.522917060498\n"
     ]
    }
   ],
   "source": [
    "# Use the best hyperparameters to train the GBDT regressor model\n",
    "gbdt_best = GradientBoostingRegressor(**grid_search.best_params_)\n",
    "gbdt_best.fit(X_train, y_train)\n",
    "\n",
    "# Predict target values on the testing set\n",
    "y_pred = gbdt_best.predict(X_test)\n",
    "\n",
    "# Compute the RMSE value\n",
    "rmse = np.sqrt(mean_squared_error(y_test, y_pred))\n",
    "print(\"RMSE:\", rmse)"
   ]
  },
  {
   "cell_type": "markdown",
   "id": "ff8ae3b2",
   "metadata": {},
   "source": [
    "**XGBoost**"
   ]
  },
  {
   "cell_type": "code",
   "execution_count": 16,
   "id": "dd8c1b3a",
   "metadata": {},
   "outputs": [
    {
     "name": "stdout",
     "output_type": "stream",
     "text": [
      "Defaulting to user installation because normal site-packages is not writeable\n",
      "Collecting xgboost\n",
      "  Downloading xgboost-1.7.4-py3-none-win_amd64.whl (89.1 MB)\n",
      "Requirement already satisfied: scipy in c:\\programdata\\anaconda3\\lib\\site-packages (from xgboost) (1.7.3)\n",
      "Requirement already satisfied: numpy in c:\\programdata\\anaconda3\\lib\\site-packages (from xgboost) (1.21.5)\n",
      "Installing collected packages: xgboost\n",
      "Successfully installed xgboost-1.7.4\n"
     ]
    }
   ],
   "source": [
    "! pip install xgboost"
   ]
  },
  {
   "cell_type": "code",
   "execution_count": 17,
   "id": "13480023",
   "metadata": {},
   "outputs": [],
   "source": [
    "from sklearn.model_selection import train_test_split, GridSearchCV\n",
    "import xgboost as xgb\n",
    "from xgboost import XGBRegressor\n",
    "from sklearn.metrics import mean_squared_error"
   ]
  },
  {
   "cell_type": "code",
   "execution_count": 18,
   "id": "148a5f53",
   "metadata": {},
   "outputs": [
    {
     "name": "stdout",
     "output_type": "stream",
     "text": [
      "Best hyperparameters: {'gamma': 0, 'learning_rate': 0.1, 'max_depth': 5, 'n_estimators': 100}\n",
      "Best score: 22790.721188675554\n"
     ]
    }
   ],
   "source": [
    "# Define the XGBoost regressor model\n",
    "xgb_reg = XGBRegressor(random_state=42)\n",
    "\n",
    "# Define the hyperparameter grid for tuning\n",
    "param_grid = {\n",
    "    'n_estimators': [100, 200, 300],\n",
    "    'max_depth': [3, 5, 7],\n",
    "    'learning_rate': [0.01, 0.1, 0.5],\n",
    "    'gamma': [0, 0.1, 1]\n",
    "}\n",
    "\n",
    "# Perform grid search cross-validation to find the best hyperparameters\n",
    "grid_search = GridSearchCV(xgb_reg, param_grid, cv=5, scoring='neg_mean_squared_error', n_jobs=-1)\n",
    "grid_search.fit(X_train, y_train)\n",
    "\n",
    "# Print the best hyperparameters and the best score\n",
    "print(\"Best hyperparameters:\", grid_search.best_params_)\n",
    "print(\"Best score:\", np.sqrt(-grid_search.best_score_))"
   ]
  },
  {
   "cell_type": "code",
   "execution_count": 19,
   "id": "27c12f7e",
   "metadata": {},
   "outputs": [
    {
     "name": "stdout",
     "output_type": "stream",
     "text": [
      "RMSE: 28348.28723238689\n"
     ]
    }
   ],
   "source": [
    "# Use the best hyperparameters to train the XGBoost regressor model\n",
    "xgb_reg_best = XGBRegressor(random_state=42, **grid_search.best_params_)\n",
    "xgb_reg_best.fit(X_train, y_train)\n",
    "\n",
    "# Predict target values on the testing set\n",
    "y_pred = xgb_reg_best.predict(X_test)\n",
    "\n",
    "# Compute the RMSE value\n",
    "rmse = np.sqrt(mean_squared_error(y_test, y_pred))\n",
    "print(\"RMSE:\", rmse)"
   ]
  },
  {
   "cell_type": "markdown",
   "id": "6570805b",
   "metadata": {},
   "source": [
    "**Best_Score_Values after Hyperparameter-Tunning:**"
   ]
  },
  {
   "cell_type": "code",
   "execution_count": 30,
   "id": "e3aa975a",
   "metadata": {},
   "outputs": [
    {
     "data": {
      "text/html": [
       "<div>\n",
       "<style scoped>\n",
       "    .dataframe tbody tr th:only-of-type {\n",
       "        vertical-align: middle;\n",
       "    }\n",
       "\n",
       "    .dataframe tbody tr th {\n",
       "        vertical-align: top;\n",
       "    }\n",
       "\n",
       "    .dataframe thead th {\n",
       "        text-align: right;\n",
       "    }\n",
       "</style>\n",
       "<table border=\"1\" class=\"dataframe\">\n",
       "  <thead>\n",
       "    <tr style=\"text-align: right;\">\n",
       "      <th></th>\n",
       "      <th>Regressors</th>\n",
       "      <th>score_values</th>\n",
       "    </tr>\n",
       "  </thead>\n",
       "  <tbody>\n",
       "    <tr>\n",
       "      <th>0</th>\n",
       "      <td>KNN</td>\n",
       "      <td>0.8546</td>\n",
       "    </tr>\n",
       "    <tr>\n",
       "      <th>1</th>\n",
       "      <td>DecisionTree</td>\n",
       "      <td>0.8115</td>\n",
       "    </tr>\n",
       "    <tr>\n",
       "      <th>2</th>\n",
       "      <td>RandomForest</td>\n",
       "      <td>0.8710</td>\n",
       "    </tr>\n",
       "    <tr>\n",
       "      <th>3</th>\n",
       "      <td>XGBoost</td>\n",
       "      <td>28348.0000</td>\n",
       "    </tr>\n",
       "    <tr>\n",
       "      <th>4</th>\n",
       "      <td>GBDT</td>\n",
       "      <td>25059.0000</td>\n",
       "    </tr>\n",
       "    <tr>\n",
       "      <th>5</th>\n",
       "      <td>AdaboostRegressor</td>\n",
       "      <td>0.7817</td>\n",
       "    </tr>\n",
       "  </tbody>\n",
       "</table>\n",
       "</div>"
      ],
      "text/plain": [
       "          Regressors  score_values\n",
       "0                KNN        0.8546\n",
       "1       DecisionTree        0.8115\n",
       "2       RandomForest        0.8710\n",
       "3            XGBoost    28348.0000\n",
       "4               GBDT    25059.0000\n",
       "5  AdaboostRegressor        0.7817"
      ]
     },
     "execution_count": 30,
     "metadata": {},
     "output_type": "execute_result"
    }
   ],
   "source": [
    "dict=pd.DataFrame({'Regressors':['KNN','DecisionTree','RandomForest','XGBoost','GBDT','AdaboostRegressor'],\n",
    "                'score_values':[0.8546,0.8115,0.871,28348,25059,0.7817]})\n",
    "dict"
   ]
  },
  {
   "cell_type": "code",
   "execution_count": null,
   "id": "1d141ae4",
   "metadata": {},
   "outputs": [],
   "source": []
  }
 ],
 "metadata": {
  "kernelspec": {
   "display_name": "Python 3 (ipykernel)",
   "language": "python",
   "name": "python3"
  },
  "language_info": {
   "codemirror_mode": {
    "name": "ipython",
    "version": 3
   },
   "file_extension": ".py",
   "mimetype": "text/x-python",
   "name": "python",
   "nbconvert_exporter": "python",
   "pygments_lexer": "ipython3",
   "version": "3.9.12"
  }
 },
 "nbformat": 4,
 "nbformat_minor": 5
}
