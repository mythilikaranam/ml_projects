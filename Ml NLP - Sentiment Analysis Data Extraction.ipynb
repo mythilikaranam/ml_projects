{
 "cells": [
  {
   "cell_type": "code",
   "execution_count": 4,
   "id": "b79a4131",
   "metadata": {},
   "outputs": [],
   "source": [
    "import zipfile\n",
    "with zipfile.ZipFile(r\"C:\\Users\\mythi\\Downloads\\txt_reviews.zip\",'r') as zip_ref:\n",
    "    zip_ref.extractall()"
   ]
  },
  {
   "cell_type": "markdown",
   "id": "964f81f1",
   "metadata": {},
   "source": [
    "**Importing libraries:**"
   ]
  },
  {
   "cell_type": "code",
   "execution_count": 1,
   "id": "67b9d8f1",
   "metadata": {},
   "outputs": [],
   "source": [
    "import pandas as pd\n",
    "import numpy as np"
   ]
  },
  {
   "cell_type": "code",
   "execution_count": 8,
   "id": "ada9e27e",
   "metadata": {},
   "outputs": [],
   "source": [
    "file_1=r\"C:\\Users\\mythi\\Downloads\\Untitled Folder\\txt_reviews\\review_1.txt\""
   ]
  },
  {
   "cell_type": "code",
   "execution_count": 9,
   "id": "288289e0",
   "metadata": {},
   "outputs": [],
   "source": [
    "txt_lines=[]\n",
    "with open(file_1) as f:\n",
    "    lines=f.readlines()\n",
    "    txt_lines.append(lines)"
   ]
  },
  {
   "cell_type": "code",
   "execution_count": 11,
   "id": "bf746c3d",
   "metadata": {},
   "outputs": [
    {
     "data": {
      "text/plain": [
       "['ProductId: B001E4KFG0\\n',\n",
       " 'UserId: A3SGXH7AUHU8GW\\n',\n",
       " 'ProfileName: delmartian\\n',\n",
       " 'HelpfulnessNumerator: 1\\n',\n",
       " 'HelpfulnessDenominator: 1\\n',\n",
       " 'Score: 5\\n',\n",
       " 'Time: 1303862400\\n',\n",
       " 'ReviewSummary: Good Quality Dog Food\\n',\n",
       " 'ReviewText: I have bought several of the Vitality canned dog food products and have found them all to be of good quality. The product looks more like a stew than a processed meat and it smells better. My Labrador is finicky and she appreciates this product better than  most.\\n']"
      ]
     },
     "execution_count": 11,
     "metadata": {},
     "output_type": "execute_result"
    }
   ],
   "source": [
    "lines"
   ]
  },
  {
   "cell_type": "code",
   "execution_count": 12,
   "id": "9178f3e1",
   "metadata": {},
   "outputs": [],
   "source": [
    "col=[line.split(\":\")[0] for line in lines]"
   ]
  },
  {
   "cell_type": "code",
   "execution_count": 13,
   "id": "66e4aa27",
   "metadata": {},
   "outputs": [
    {
     "data": {
      "text/plain": [
       "['ProductId',\n",
       " 'UserId',\n",
       " 'ProfileName',\n",
       " 'HelpfulnessNumerator',\n",
       " 'HelpfulnessDenominator',\n",
       " 'Score',\n",
       " 'Time',\n",
       " 'ReviewSummary',\n",
       " 'ReviewText']"
      ]
     },
     "execution_count": 13,
     "metadata": {},
     "output_type": "execute_result"
    }
   ],
   "source": [
    "col"
   ]
  },
  {
   "cell_type": "code",
   "execution_count": 14,
   "id": "2d4e5285",
   "metadata": {},
   "outputs": [],
   "source": [
    "df=pd.DataFrame(columns=col)"
   ]
  },
  {
   "cell_type": "code",
   "execution_count": 15,
   "id": "951350a6",
   "metadata": {},
   "outputs": [
    {
     "data": {
      "text/html": [
       "<div>\n",
       "<style scoped>\n",
       "    .dataframe tbody tr th:only-of-type {\n",
       "        vertical-align: middle;\n",
       "    }\n",
       "\n",
       "    .dataframe tbody tr th {\n",
       "        vertical-align: top;\n",
       "    }\n",
       "\n",
       "    .dataframe thead th {\n",
       "        text-align: right;\n",
       "    }\n",
       "</style>\n",
       "<table border=\"1\" class=\"dataframe\">\n",
       "  <thead>\n",
       "    <tr style=\"text-align: right;\">\n",
       "      <th></th>\n",
       "      <th>ProductId</th>\n",
       "      <th>UserId</th>\n",
       "      <th>ProfileName</th>\n",
       "      <th>HelpfulnessNumerator</th>\n",
       "      <th>HelpfulnessDenominator</th>\n",
       "      <th>Score</th>\n",
       "      <th>Time</th>\n",
       "      <th>ReviewSummary</th>\n",
       "      <th>ReviewText</th>\n",
       "    </tr>\n",
       "  </thead>\n",
       "  <tbody>\n",
       "  </tbody>\n",
       "</table>\n",
       "</div>"
      ],
      "text/plain": [
       "Empty DataFrame\n",
       "Columns: [ProductId, UserId, ProfileName, HelpfulnessNumerator, HelpfulnessDenominator, Score, Time, ReviewSummary, ReviewText]\n",
       "Index: []"
      ]
     },
     "execution_count": 15,
     "metadata": {},
     "output_type": "execute_result"
    }
   ],
   "source": [
    "df"
   ]
  },
  {
   "cell_type": "code",
   "execution_count": 16,
   "id": "98578d58",
   "metadata": {},
   "outputs": [],
   "source": [
    "col_1=[line.split(\":\")[1].replace(\"\\n\",\"\") for line in lines]"
   ]
  },
  {
   "cell_type": "code",
   "execution_count": 17,
   "id": "e1a72bde",
   "metadata": {},
   "outputs": [
    {
     "data": {
      "text/plain": [
       "[' B001E4KFG0',\n",
       " ' A3SGXH7AUHU8GW',\n",
       " ' delmartian',\n",
       " ' 1',\n",
       " ' 1',\n",
       " ' 5',\n",
       " ' 1303862400',\n",
       " ' Good Quality Dog Food',\n",
       " ' I have bought several of the Vitality canned dog food products and have found them all to be of good quality. The product looks more like a stew than a processed meat and it smells better. My Labrador is finicky and she appreciates this product better than  most.']"
      ]
     },
     "execution_count": 17,
     "metadata": {},
     "output_type": "execute_result"
    }
   ],
   "source": [
    "col_1"
   ]
  },
  {
   "cell_type": "markdown",
   "id": "0f635884",
   "metadata": {},
   "source": [
    "**Creating Dataframe:**"
   ]
  },
  {
   "cell_type": "code",
   "execution_count": 18,
   "id": "86414a17",
   "metadata": {},
   "outputs": [
    {
     "name": "stdout",
     "output_type": "stream",
     "text": [
      "CPU times: total: 25.7 s\n",
      "Wall time: 17min 14s\n"
     ]
    }
   ],
   "source": [
    "%%time\n",
    "import glob\n",
    "import os\n",
    "ProductId=[]\n",
    "UserId=[]\n",
    "ProfileName=[]\n",
    "HelpfulnessNumerator=[]\n",
    "HelpfulnessDenominator=[]\n",
    "Score=[]\n",
    "Time=[]\n",
    "ReviewSummary=[]\n",
    "ReviewText=[]\n",
    "for file in glob.glob(r\"C:/Users/mythi/Downloads/Untitled Folder/txt_reviews/*.txt\"):\n",
    "    text = open(os.path.join(file), 'r',encoding='utf-8').read().split(\"\\n\")\n",
    "    ProductId.append(text[0].split(\":\")[1])\n",
    "    UserId.append(text[1].split(\":\")[1])\n",
    "    ProfileName.append(text[2].split(\":\")[1])\n",
    "    HelpfulnessNumerator.append(text[3].split(\":\")[1])\n",
    "    HelpfulnessDenominator.append(text[4].split(\":\")[1]) \n",
    "    Score.append(text[5].split(\":\")[1])\n",
    "    Time.append(text[6].split(\":\")[1])\n",
    "    ReviewSummary.append(text[7].split(\":\")[1])\n",
    "    ReviewText.append(text[8].split(\":\")[1])\n",
    "    "
   ]
  },
  {
   "cell_type": "code",
   "execution_count": 19,
   "id": "0ca2d4af",
   "metadata": {},
   "outputs": [],
   "source": [
    "data = pd.DataFrame({'ProductId':ProductId,'UserId':UserId,'ProfileName':ProfileName,'HelpfulnessNumerator':HelpfulnessNumerator,'HelpfulnessDenominator':HelpfulnessDenominator,'Score':Score,'Time':Time,'ReviewSummary':ReviewSummary,'ReviewText':ReviewText})  "
   ]
  },
  {
   "cell_type": "code",
   "execution_count": 20,
   "id": "937d9293",
   "metadata": {},
   "outputs": [
    {
     "data": {
      "text/html": [
       "<div>\n",
       "<style scoped>\n",
       "    .dataframe tbody tr th:only-of-type {\n",
       "        vertical-align: middle;\n",
       "    }\n",
       "\n",
       "    .dataframe tbody tr th {\n",
       "        vertical-align: top;\n",
       "    }\n",
       "\n",
       "    .dataframe thead th {\n",
       "        text-align: right;\n",
       "    }\n",
       "</style>\n",
       "<table border=\"1\" class=\"dataframe\">\n",
       "  <thead>\n",
       "    <tr style=\"text-align: right;\">\n",
       "      <th></th>\n",
       "      <th>ProductId</th>\n",
       "      <th>UserId</th>\n",
       "      <th>ProfileName</th>\n",
       "      <th>HelpfulnessNumerator</th>\n",
       "      <th>HelpfulnessDenominator</th>\n",
       "      <th>Score</th>\n",
       "      <th>Time</th>\n",
       "      <th>ReviewSummary</th>\n",
       "      <th>ReviewText</th>\n",
       "    </tr>\n",
       "  </thead>\n",
       "  <tbody>\n",
       "    <tr>\n",
       "      <th>0</th>\n",
       "      <td>B001E4KFG0</td>\n",
       "      <td>A3SGXH7AUHU8GW</td>\n",
       "      <td>delmartian</td>\n",
       "      <td>1</td>\n",
       "      <td>1</td>\n",
       "      <td>5</td>\n",
       "      <td>1303862400</td>\n",
       "      <td>Good Quality Dog Food</td>\n",
       "      <td>I have bought several of the Vitality canned ...</td>\n",
       "    </tr>\n",
       "    <tr>\n",
       "      <th>1</th>\n",
       "      <td>B00171APVA</td>\n",
       "      <td>A21BT40VZCCYT4</td>\n",
       "      <td>Carol A. Reed</td>\n",
       "      <td>0</td>\n",
       "      <td>0</td>\n",
       "      <td>5</td>\n",
       "      <td>1351209600</td>\n",
       "      <td>Healthy Dog Food</td>\n",
       "      <td>This is a very healthy dog food. Good for the...</td>\n",
       "    </tr>\n",
       "    <tr>\n",
       "      <th>2</th>\n",
       "      <td>B0019CW0HE</td>\n",
       "      <td>A2P6ACFZ8FTNVV</td>\n",
       "      <td>Melissa Benjamin</td>\n",
       "      <td>0</td>\n",
       "      <td>1</td>\n",
       "      <td>1</td>\n",
       "      <td>1331164800</td>\n",
       "      <td>Bad</td>\n",
       "      <td>I fed this to my Golden Retriever and he hate...</td>\n",
       "    </tr>\n",
       "    <tr>\n",
       "      <th>3</th>\n",
       "      <td>B006F2NYI2</td>\n",
       "      <td>A132DJVI37RB4X</td>\n",
       "      <td>Scottdrum</td>\n",
       "      <td>2</td>\n",
       "      <td>5</td>\n",
       "      <td>2</td>\n",
       "      <td>1332374400</td>\n",
       "      <td>Not hot, not habanero</td>\n",
       "      <td>I have to admit, I was a sucker for the large...</td>\n",
       "    </tr>\n",
       "    <tr>\n",
       "      <th>4</th>\n",
       "      <td>B000P41A28</td>\n",
       "      <td>A82WIMR4RSVLI</td>\n",
       "      <td>Emrose mom</td>\n",
       "      <td>0</td>\n",
       "      <td>1</td>\n",
       "      <td>4</td>\n",
       "      <td>1337472000</td>\n",
       "      <td>The best weve tried so far</td>\n",
       "      <td>We have a 7 week old... He had gas and consti...</td>\n",
       "    </tr>\n",
       "    <tr>\n",
       "      <th>...</th>\n",
       "      <td>...</td>\n",
       "      <td>...</td>\n",
       "      <td>...</td>\n",
       "      <td>...</td>\n",
       "      <td>...</td>\n",
       "      <td>...</td>\n",
       "      <td>...</td>\n",
       "      <td>...</td>\n",
       "      <td>...</td>\n",
       "    </tr>\n",
       "    <tr>\n",
       "      <th>568449</th>\n",
       "      <td>B000LQORDE</td>\n",
       "      <td>AL22WN8RBBOW7</td>\n",
       "      <td>LifeInTheCity \"trogg\"</td>\n",
       "      <td>2</td>\n",
       "      <td>5</td>\n",
       "      <td>5</td>\n",
       "      <td>1256428800</td>\n",
       "      <td>Good Stuff</td>\n",
       "      <td>I love these noodle.  A little to spicy for t...</td>\n",
       "    </tr>\n",
       "    <tr>\n",
       "      <th>568450</th>\n",
       "      <td>B000LQORDE</td>\n",
       "      <td>A2P7HIRYYWVOBD</td>\n",
       "      <td>Mason</td>\n",
       "      <td>2</td>\n",
       "      <td>5</td>\n",
       "      <td>5</td>\n",
       "      <td>1254096000</td>\n",
       "      <td>yummy!</td>\n",
       "      <td>I just love it and will buy another box when ...</td>\n",
       "    </tr>\n",
       "    <tr>\n",
       "      <th>568451</th>\n",
       "      <td>B000LQORDE</td>\n",
       "      <td>A1K0ZH5MQFBA77</td>\n",
       "      <td>jennilight</td>\n",
       "      <td>2</td>\n",
       "      <td>5</td>\n",
       "      <td>4</td>\n",
       "      <td>1250985600</td>\n",
       "      <td>Tastes like More!</td>\n",
       "      <td>My late father in law used to have a rating s...</td>\n",
       "    </tr>\n",
       "    <tr>\n",
       "      <th>568452</th>\n",
       "      <td>B000LQORDE</td>\n",
       "      <td>A29FRN2O7LWINL</td>\n",
       "      <td>T. Tsai</td>\n",
       "      <td>2</td>\n",
       "      <td>5</td>\n",
       "      <td>5</td>\n",
       "      <td>1237766400</td>\n",
       "      <td>Great ramen</td>\n",
       "      <td>This is my favorite brand of Korean ramen. It...</td>\n",
       "    </tr>\n",
       "    <tr>\n",
       "      <th>568453</th>\n",
       "      <td>B000LQORDE</td>\n",
       "      <td>A9Q950IPXJR1D</td>\n",
       "      <td>Lynda \"casual customer\"</td>\n",
       "      <td>2</td>\n",
       "      <td>5</td>\n",
       "      <td>4</td>\n",
       "      <td>1237161600</td>\n",
       "      <td>Spicy!!</td>\n",
       "      <td>I do like these noodles although, to say they...</td>\n",
       "    </tr>\n",
       "  </tbody>\n",
       "</table>\n",
       "<p>568454 rows × 9 columns</p>\n",
       "</div>"
      ],
      "text/plain": [
       "          ProductId           UserId               ProfileName  \\\n",
       "0        B001E4KFG0   A3SGXH7AUHU8GW                delmartian   \n",
       "1        B00171APVA   A21BT40VZCCYT4             Carol A. Reed   \n",
       "2        B0019CW0HE   A2P6ACFZ8FTNVV          Melissa Benjamin   \n",
       "3        B006F2NYI2   A132DJVI37RB4X                 Scottdrum   \n",
       "4        B000P41A28    A82WIMR4RSVLI                Emrose mom   \n",
       "...             ...              ...                       ...   \n",
       "568449   B000LQORDE    AL22WN8RBBOW7     LifeInTheCity \"trogg\"   \n",
       "568450   B000LQORDE   A2P7HIRYYWVOBD                     Mason   \n",
       "568451   B000LQORDE   A1K0ZH5MQFBA77                jennilight   \n",
       "568452   B000LQORDE   A29FRN2O7LWINL                   T. Tsai   \n",
       "568453   B000LQORDE    A9Q950IPXJR1D   Lynda \"casual customer\"   \n",
       "\n",
       "       HelpfulnessNumerator HelpfulnessDenominator Score         Time  \\\n",
       "0                         1                      1     5   1303862400   \n",
       "1                         0                      0     5   1351209600   \n",
       "2                         0                      1     1   1331164800   \n",
       "3                         2                      5     2   1332374400   \n",
       "4                         0                      1     4   1337472000   \n",
       "...                     ...                    ...   ...          ...   \n",
       "568449                    2                      5     5   1256428800   \n",
       "568450                    2                      5     5   1254096000   \n",
       "568451                    2                      5     4   1250985600   \n",
       "568452                    2                      5     5   1237766400   \n",
       "568453                    2                      5     4   1237161600   \n",
       "\n",
       "                      ReviewSummary  \\\n",
       "0             Good Quality Dog Food   \n",
       "1                  Healthy Dog Food   \n",
       "2                               Bad   \n",
       "3             Not hot, not habanero   \n",
       "4        The best weve tried so far   \n",
       "...                             ...   \n",
       "568449                   Good Stuff   \n",
       "568450                       yummy!   \n",
       "568451            Tastes like More!   \n",
       "568452                  Great ramen   \n",
       "568453                      Spicy!!   \n",
       "\n",
       "                                               ReviewText  \n",
       "0        I have bought several of the Vitality canned ...  \n",
       "1        This is a very healthy dog food. Good for the...  \n",
       "2        I fed this to my Golden Retriever and he hate...  \n",
       "3        I have to admit, I was a sucker for the large...  \n",
       "4        We have a 7 week old... He had gas and consti...  \n",
       "...                                                   ...  \n",
       "568449   I love these noodle.  A little to spicy for t...  \n",
       "568450   I just love it and will buy another box when ...  \n",
       "568451   My late father in law used to have a rating s...  \n",
       "568452   This is my favorite brand of Korean ramen. It...  \n",
       "568453   I do like these noodles although, to say they...  \n",
       "\n",
       "[568454 rows x 9 columns]"
      ]
     },
     "execution_count": 20,
     "metadata": {},
     "output_type": "execute_result"
    }
   ],
   "source": [
    "data"
   ]
  },
  {
   "cell_type": "code",
   "execution_count": 21,
   "id": "1365e602",
   "metadata": {},
   "outputs": [],
   "source": [
    "data.head()\n",
    "df=data.copy()"
   ]
  },
  {
   "cell_type": "markdown",
   "id": "dd02c3e9",
   "metadata": {},
   "source": [
    "**Converting into csv form:**"
   ]
  },
  {
   "cell_type": "code",
   "execution_count": 22,
   "id": "1081320c",
   "metadata": {},
   "outputs": [],
   "source": [
    "data.to_csv(\"final.csv\")"
   ]
  },
  {
   "cell_type": "code",
   "execution_count": null,
   "id": "51928fde",
   "metadata": {},
   "outputs": [],
   "source": []
  },
  {
   "cell_type": "code",
   "execution_count": null,
   "id": "829ea316",
   "metadata": {},
   "outputs": [],
   "source": []
  }
 ],
 "metadata": {
  "kernelspec": {
   "display_name": "Python 3 (ipykernel)",
   "language": "python",
   "name": "python3"
  },
  "language_info": {
   "codemirror_mode": {
    "name": "ipython",
    "version": 3
   },
   "file_extension": ".py",
   "mimetype": "text/x-python",
   "name": "python",
   "nbconvert_exporter": "python",
   "pygments_lexer": "ipython3",
   "version": "3.9.12"
  }
 },
 "nbformat": 4,
 "nbformat_minor": 5
}
